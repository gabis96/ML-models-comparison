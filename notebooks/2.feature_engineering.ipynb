{
 "cells": [
  {
   "attachments": {},
   "cell_type": "markdown",
   "metadata": {},
   "source": [
    "## Feature Engineering\n",
    "In the Wrangling Data step there where datasets with 'missing columns'. In this notebook we'll be using interpolation/regression to fill these missing values.\n",
    "\n",
    "- From 2015 to 2017 there are no entries for 'Social Support', it will be interpolated.\n",
    "- From 2018 to 2019 there are no entries for 'Dystopia Residual', it will be interpolated. (It has a formula but can't find a proper definition online)\n",
    "- Nan values\n",
    "\n"
   ]
  },
  {
   "cell_type": "code",
   "execution_count": 1,
   "metadata": {},
   "outputs": [],
   "source": [
    "import pandas as pd \n",
    "import seaborn as sns\n",
    "import matplotlib.pyplot as plt\n",
    "\n",
    "# Set plots theme\n",
    "palette = sns.color_palette(palette=\"blend:#87b7e0,#cf604a\")\n",
    "sns.set_theme(style=\"ticks\", palette=palette, color_codes=True)"
   ]
  },
  {
   "cell_type": "code",
   "execution_count": 2,
   "metadata": {},
   "outputs": [
    {
     "data": {
      "text/html": [
       "<div>\n",
       "<style scoped>\n",
       "    .dataframe tbody tr th:only-of-type {\n",
       "        vertical-align: middle;\n",
       "    }\n",
       "\n",
       "    .dataframe tbody tr th {\n",
       "        vertical-align: top;\n",
       "    }\n",
       "\n",
       "    .dataframe thead th {\n",
       "        text-align: right;\n",
       "    }\n",
       "</style>\n",
       "<table border=\"1\" class=\"dataframe\">\n",
       "  <thead>\n",
       "    <tr style=\"text-align: right;\">\n",
       "      <th></th>\n",
       "      <th>Year</th>\n",
       "      <th>Country</th>\n",
       "      <th>Happiness Rank</th>\n",
       "      <th>Happiness Score</th>\n",
       "      <th>Freedom</th>\n",
       "      <th>Generosity</th>\n",
       "      <th>Healthy life expectancy</th>\n",
       "      <th>Perceptions of corruption</th>\n",
       "      <th>GDP per capita</th>\n",
       "      <th>Social support</th>\n",
       "      <th>Dystopia Residual</th>\n",
       "    </tr>\n",
       "  </thead>\n",
       "  <tbody>\n",
       "    <tr>\n",
       "      <th>0</th>\n",
       "      <td>2015</td>\n",
       "      <td>Switzerland</td>\n",
       "      <td>1</td>\n",
       "      <td>7.587</td>\n",
       "      <td>0.66557</td>\n",
       "      <td>0.29678</td>\n",
       "      <td>0.94143</td>\n",
       "      <td>0.41978</td>\n",
       "      <td>1.39651</td>\n",
       "      <td>NaN</td>\n",
       "      <td>2.51738</td>\n",
       "    </tr>\n",
       "    <tr>\n",
       "      <th>1</th>\n",
       "      <td>2015</td>\n",
       "      <td>Iceland</td>\n",
       "      <td>2</td>\n",
       "      <td>7.561</td>\n",
       "      <td>0.62877</td>\n",
       "      <td>0.43630</td>\n",
       "      <td>0.94784</td>\n",
       "      <td>0.14145</td>\n",
       "      <td>1.30232</td>\n",
       "      <td>NaN</td>\n",
       "      <td>2.70201</td>\n",
       "    </tr>\n",
       "    <tr>\n",
       "      <th>2</th>\n",
       "      <td>2015</td>\n",
       "      <td>Denmark</td>\n",
       "      <td>3</td>\n",
       "      <td>7.527</td>\n",
       "      <td>0.64938</td>\n",
       "      <td>0.34139</td>\n",
       "      <td>0.87464</td>\n",
       "      <td>0.48357</td>\n",
       "      <td>1.32548</td>\n",
       "      <td>NaN</td>\n",
       "      <td>2.49204</td>\n",
       "    </tr>\n",
       "    <tr>\n",
       "      <th>3</th>\n",
       "      <td>2015</td>\n",
       "      <td>Norway</td>\n",
       "      <td>4</td>\n",
       "      <td>7.522</td>\n",
       "      <td>0.66973</td>\n",
       "      <td>0.34699</td>\n",
       "      <td>0.88521</td>\n",
       "      <td>0.36503</td>\n",
       "      <td>1.45900</td>\n",
       "      <td>NaN</td>\n",
       "      <td>2.46531</td>\n",
       "    </tr>\n",
       "    <tr>\n",
       "      <th>4</th>\n",
       "      <td>2015</td>\n",
       "      <td>Canada</td>\n",
       "      <td>5</td>\n",
       "      <td>7.427</td>\n",
       "      <td>0.63297</td>\n",
       "      <td>0.45811</td>\n",
       "      <td>0.90563</td>\n",
       "      <td>0.32957</td>\n",
       "      <td>1.32629</td>\n",
       "      <td>NaN</td>\n",
       "      <td>2.45176</td>\n",
       "    </tr>\n",
       "    <tr>\n",
       "      <th>...</th>\n",
       "      <td>...</td>\n",
       "      <td>...</td>\n",
       "      <td>...</td>\n",
       "      <td>...</td>\n",
       "      <td>...</td>\n",
       "      <td>...</td>\n",
       "      <td>...</td>\n",
       "      <td>...</td>\n",
       "      <td>...</td>\n",
       "      <td>...</td>\n",
       "      <td>...</td>\n",
       "    </tr>\n",
       "    <tr>\n",
       "      <th>1225</th>\n",
       "      <td>2022</td>\n",
       "      <td>Botswana</td>\n",
       "      <td>142</td>\n",
       "      <td>3.471</td>\n",
       "      <td>0.57100</td>\n",
       "      <td>0.01200</td>\n",
       "      <td>0.28000</td>\n",
       "      <td>0.10200</td>\n",
       "      <td>1.50300</td>\n",
       "      <td>0.815</td>\n",
       "      <td>0.18700</td>\n",
       "    </tr>\n",
       "    <tr>\n",
       "      <th>1226</th>\n",
       "      <td>2022</td>\n",
       "      <td>Rwanda</td>\n",
       "      <td>143</td>\n",
       "      <td>3.268</td>\n",
       "      <td>0.62100</td>\n",
       "      <td>0.18700</td>\n",
       "      <td>0.46200</td>\n",
       "      <td>0.54400</td>\n",
       "      <td>0.78500</td>\n",
       "      <td>0.133</td>\n",
       "      <td>0.53600</td>\n",
       "    </tr>\n",
       "    <tr>\n",
       "      <th>1227</th>\n",
       "      <td>2022</td>\n",
       "      <td>Zimbabwe</td>\n",
       "      <td>144</td>\n",
       "      <td>2.995</td>\n",
       "      <td>0.32900</td>\n",
       "      <td>0.10600</td>\n",
       "      <td>0.27000</td>\n",
       "      <td>0.10500</td>\n",
       "      <td>0.94700</td>\n",
       "      <td>0.690</td>\n",
       "      <td>0.54800</td>\n",
       "    </tr>\n",
       "    <tr>\n",
       "      <th>1228</th>\n",
       "      <td>2022</td>\n",
       "      <td>Lebanon</td>\n",
       "      <td>145</td>\n",
       "      <td>2.955</td>\n",
       "      <td>0.10300</td>\n",
       "      <td>0.08200</td>\n",
       "      <td>0.63100</td>\n",
       "      <td>0.03400</td>\n",
       "      <td>1.39200</td>\n",
       "      <td>0.498</td>\n",
       "      <td>0.21600</td>\n",
       "    </tr>\n",
       "    <tr>\n",
       "      <th>1229</th>\n",
       "      <td>2022</td>\n",
       "      <td>Afghanistan</td>\n",
       "      <td>146</td>\n",
       "      <td>2.404</td>\n",
       "      <td>0.00000</td>\n",
       "      <td>0.08900</td>\n",
       "      <td>0.28900</td>\n",
       "      <td>0.00500</td>\n",
       "      <td>0.75800</td>\n",
       "      <td>0.000</td>\n",
       "      <td>1.26300</td>\n",
       "    </tr>\n",
       "  </tbody>\n",
       "</table>\n",
       "<p>1230 rows × 11 columns</p>\n",
       "</div>"
      ],
      "text/plain": [
       "      Year      Country  Happiness Rank  Happiness Score  Freedom  Generosity  \\\n",
       "0     2015  Switzerland               1            7.587  0.66557     0.29678   \n",
       "1     2015      Iceland               2            7.561  0.62877     0.43630   \n",
       "2     2015      Denmark               3            7.527  0.64938     0.34139   \n",
       "3     2015       Norway               4            7.522  0.66973     0.34699   \n",
       "4     2015       Canada               5            7.427  0.63297     0.45811   \n",
       "...    ...          ...             ...              ...      ...         ...   \n",
       "1225  2022     Botswana             142            3.471  0.57100     0.01200   \n",
       "1226  2022       Rwanda             143            3.268  0.62100     0.18700   \n",
       "1227  2022     Zimbabwe             144            2.995  0.32900     0.10600   \n",
       "1228  2022      Lebanon             145            2.955  0.10300     0.08200   \n",
       "1229  2022  Afghanistan             146            2.404  0.00000     0.08900   \n",
       "\n",
       "      Healthy life expectancy  Perceptions of corruption  GDP per capita  \\\n",
       "0                     0.94143                    0.41978         1.39651   \n",
       "1                     0.94784                    0.14145         1.30232   \n",
       "2                     0.87464                    0.48357         1.32548   \n",
       "3                     0.88521                    0.36503         1.45900   \n",
       "4                     0.90563                    0.32957         1.32629   \n",
       "...                       ...                        ...             ...   \n",
       "1225                  0.28000                    0.10200         1.50300   \n",
       "1226                  0.46200                    0.54400         0.78500   \n",
       "1227                  0.27000                    0.10500         0.94700   \n",
       "1228                  0.63100                    0.03400         1.39200   \n",
       "1229                  0.28900                    0.00500         0.75800   \n",
       "\n",
       "      Social support  Dystopia Residual  \n",
       "0                NaN            2.51738  \n",
       "1                NaN            2.70201  \n",
       "2                NaN            2.49204  \n",
       "3                NaN            2.46531  \n",
       "4                NaN            2.45176  \n",
       "...              ...                ...  \n",
       "1225           0.815            0.18700  \n",
       "1226           0.133            0.53600  \n",
       "1227           0.690            0.54800  \n",
       "1228           0.498            0.21600  \n",
       "1229           0.000            1.26300  \n",
       "\n",
       "[1230 rows x 11 columns]"
      ]
     },
     "execution_count": 2,
     "metadata": {},
     "output_type": "execute_result"
    }
   ],
   "source": [
    "df = pd.read_csv('../data/processed/WorldHappinees.csv')\n",
    "df"
   ]
  },
  {
   "cell_type": "code",
   "execution_count": 3,
   "metadata": {},
   "outputs": [
    {
     "name": "stdout",
     "output_type": "stream",
     "text": [
      "<class 'pandas.core.frame.DataFrame'>\n",
      "RangeIndex: 1230 entries, 0 to 1229\n",
      "Data columns (total 11 columns):\n",
      " #   Column                     Non-Null Count  Dtype  \n",
      "---  ------                     --------------  -----  \n",
      " 0   Year                       1230 non-null   int64  \n",
      " 1   Country                    1230 non-null   object \n",
      " 2   Happiness Rank             1230 non-null   int64  \n",
      " 3   Happiness Score            1230 non-null   float64\n",
      " 4   Freedom                    1230 non-null   float64\n",
      " 5   Generosity                 1230 non-null   float64\n",
      " 6   Healthy life expectancy    1230 non-null   float64\n",
      " 7   Perceptions of corruption  1229 non-null   float64\n",
      " 8   GDP per capita             1230 non-null   float64\n",
      " 9   Social support             760 non-null    float64\n",
      " 10  Dystopia Residual          918 non-null    float64\n",
      "dtypes: float64(8), int64(2), object(1)\n",
      "memory usage: 105.8+ KB\n"
     ]
    }
   ],
   "source": [
    "df.info()"
   ]
  },
  {
   "attachments": {},
   "cell_type": "markdown",
   "metadata": {},
   "source": [
    "Check for nan values"
   ]
  },
  {
   "cell_type": "code",
   "execution_count": 4,
   "metadata": {},
   "outputs": [
    {
     "data": {
      "text/plain": [
       "Year                          0.00\n",
       "Country                       0.00\n",
       "Happiness Rank                0.00\n",
       "Happiness Score               0.00\n",
       "Freedom                       0.00\n",
       "Generosity                    0.00\n",
       "Healthy life expectancy       0.00\n",
       "Perceptions of corruption     0.08\n",
       "GDP per capita                0.00\n",
       "Social support               38.21\n",
       "Dystopia Residual            25.37\n",
       "dtype: float64"
      ]
     },
     "execution_count": 4,
     "metadata": {},
     "output_type": "execute_result"
    }
   ],
   "source": [
    "## Missing Values %\n",
    "round((df.isna().sum() / len(df))*100,2)"
   ]
  },
  {
   "cell_type": "code",
   "execution_count": 5,
   "metadata": {},
   "outputs": [
    {
     "data": {
      "text/plain": [
       "Year                           0\n",
       "Country                        0\n",
       "Happiness Rank                 0\n",
       "Happiness Score                0\n",
       "Freedom                        0\n",
       "Generosity                     0\n",
       "Healthy life expectancy        0\n",
       "Perceptions of corruption      1\n",
       "GDP per capita                 0\n",
       "Social support               470\n",
       "Dystopia Residual            312\n",
       "dtype: int64"
      ]
     },
     "execution_count": 5,
     "metadata": {},
     "output_type": "execute_result"
    }
   ],
   "source": [
    "## Missing Values Count\n",
    "df.isna().sum()"
   ]
  },
  {
   "cell_type": "code",
   "execution_count": 6,
   "metadata": {},
   "outputs": [
    {
     "data": {
      "text/html": [
       "<div>\n",
       "<style scoped>\n",
       "    .dataframe tbody tr th:only-of-type {\n",
       "        vertical-align: middle;\n",
       "    }\n",
       "\n",
       "    .dataframe tbody tr th {\n",
       "        vertical-align: top;\n",
       "    }\n",
       "\n",
       "    .dataframe thead th {\n",
       "        text-align: right;\n",
       "    }\n",
       "</style>\n",
       "<table border=\"1\" class=\"dataframe\">\n",
       "  <thead>\n",
       "    <tr style=\"text-align: right;\">\n",
       "      <th></th>\n",
       "      <th>Year</th>\n",
       "      <th>Country</th>\n",
       "      <th>Happiness Rank</th>\n",
       "      <th>Happiness Score</th>\n",
       "      <th>Freedom</th>\n",
       "      <th>Generosity</th>\n",
       "      <th>Healthy life expectancy</th>\n",
       "      <th>Perceptions of corruption</th>\n",
       "      <th>GDP per capita</th>\n",
       "      <th>Social support</th>\n",
       "      <th>Dystopia Residual</th>\n",
       "    </tr>\n",
       "  </thead>\n",
       "  <tbody>\n",
       "    <tr>\n",
       "      <th>489</th>\n",
       "      <td>2018</td>\n",
       "      <td>United Arab Emirates</td>\n",
       "      <td>20</td>\n",
       "      <td>6.774</td>\n",
       "      <td>0.284</td>\n",
       "      <td>0.186</td>\n",
       "      <td>0.67</td>\n",
       "      <td>NaN</td>\n",
       "      <td>2.096</td>\n",
       "      <td>0.776</td>\n",
       "      <td>NaN</td>\n",
       "    </tr>\n",
       "  </tbody>\n",
       "</table>\n",
       "</div>"
      ],
      "text/plain": [
       "     Year               Country  Happiness Rank  Happiness Score  Freedom  \\\n",
       "489  2018  United Arab Emirates              20            6.774    0.284   \n",
       "\n",
       "     Generosity  Healthy life expectancy  Perceptions of corruption  \\\n",
       "489       0.186                     0.67                        NaN   \n",
       "\n",
       "     GDP per capita  Social support  Dystopia Residual  \n",
       "489           2.096           0.776                NaN  "
      ]
     },
     "execution_count": 6,
     "metadata": {},
     "output_type": "execute_result"
    }
   ],
   "source": [
    "# First fix one record in perception of corruption\n",
    "df[df['Perceptions of corruption'].isna()]"
   ]
  },
  {
   "attachments": {},
   "cell_type": "markdown",
   "metadata": {},
   "source": [
    "As we do not count with an exact formula that could calculate this value given the rest of the features, we need to imputate this value with some approximation. \n",
    "\n",
    "- Every record is highly important as it represents the performance of a country in one year, so dropping the column is not an option. \n",
    "\n",
    "- There are several ways of handling missing data, some really simple like calculating the mean of 'Perception of corruption' values, but not from the entire column (it wouldnt be accurate) but filtering the records from the country and then take the mean. \n",
    "\n",
    "- More advanced imputation techniques involve interpolation, which secure highly accuracy but being not so many records forthecountry a simple mean will do. "
   ]
  },
  {
   "cell_type": "code",
   "execution_count": 7,
   "metadata": {},
   "outputs": [
    {
     "data": {
      "text/html": [
       "<div>\n",
       "<style scoped>\n",
       "    .dataframe tbody tr th:only-of-type {\n",
       "        vertical-align: middle;\n",
       "    }\n",
       "\n",
       "    .dataframe tbody tr th {\n",
       "        vertical-align: top;\n",
       "    }\n",
       "\n",
       "    .dataframe thead th {\n",
       "        text-align: right;\n",
       "    }\n",
       "</style>\n",
       "<table border=\"1\" class=\"dataframe\">\n",
       "  <thead>\n",
       "    <tr style=\"text-align: right;\">\n",
       "      <th></th>\n",
       "      <th>Year</th>\n",
       "      <th>Country</th>\n",
       "      <th>Happiness Rank</th>\n",
       "      <th>Happiness Score</th>\n",
       "      <th>Freedom</th>\n",
       "      <th>Generosity</th>\n",
       "      <th>Healthy life expectancy</th>\n",
       "      <th>Perceptions of corruption</th>\n",
       "      <th>GDP per capita</th>\n",
       "      <th>Social support</th>\n",
       "      <th>Dystopia Residual</th>\n",
       "    </tr>\n",
       "  </thead>\n",
       "  <tbody>\n",
       "    <tr>\n",
       "      <th>19</th>\n",
       "      <td>2015</td>\n",
       "      <td>United Arab Emirates</td>\n",
       "      <td>20</td>\n",
       "      <td>6.9010</td>\n",
       "      <td>0.641570</td>\n",
       "      <td>0.264280</td>\n",
       "      <td>0.809250</td>\n",
       "      <td>0.385830</td>\n",
       "      <td>1.427270</td>\n",
       "      <td>NaN</td>\n",
       "      <td>2.247430</td>\n",
       "    </tr>\n",
       "    <tr>\n",
       "      <th>185</th>\n",
       "      <td>2016</td>\n",
       "      <td>United Arab Emirates</td>\n",
       "      <td>28</td>\n",
       "      <td>6.5730</td>\n",
       "      <td>0.562150</td>\n",
       "      <td>0.265910</td>\n",
       "      <td>0.729930</td>\n",
       "      <td>0.355610</td>\n",
       "      <td>1.573520</td>\n",
       "      <td>NaN</td>\n",
       "      <td>2.215070</td>\n",
       "    </tr>\n",
       "    <tr>\n",
       "      <th>335</th>\n",
       "      <td>2017</td>\n",
       "      <td>United Arab Emirates</td>\n",
       "      <td>21</td>\n",
       "      <td>6.6480</td>\n",
       "      <td>0.608345</td>\n",
       "      <td>0.360942</td>\n",
       "      <td>0.726798</td>\n",
       "      <td>0.324490</td>\n",
       "      <td>1.626343</td>\n",
       "      <td>NaN</td>\n",
       "      <td>1.734704</td>\n",
       "    </tr>\n",
       "    <tr>\n",
       "      <th>489</th>\n",
       "      <td>2018</td>\n",
       "      <td>United Arab Emirates</td>\n",
       "      <td>20</td>\n",
       "      <td>6.7740</td>\n",
       "      <td>0.284000</td>\n",
       "      <td>0.186000</td>\n",
       "      <td>0.670000</td>\n",
       "      <td>NaN</td>\n",
       "      <td>2.096000</td>\n",
       "      <td>0.776000</td>\n",
       "      <td>NaN</td>\n",
       "    </tr>\n",
       "    <tr>\n",
       "      <th>646</th>\n",
       "      <td>2019</td>\n",
       "      <td>United Arab Emirates</td>\n",
       "      <td>21</td>\n",
       "      <td>6.8250</td>\n",
       "      <td>0.598000</td>\n",
       "      <td>0.262000</td>\n",
       "      <td>0.825000</td>\n",
       "      <td>0.182000</td>\n",
       "      <td>1.503000</td>\n",
       "      <td>1.310000</td>\n",
       "      <td>NaN</td>\n",
       "    </tr>\n",
       "    <tr>\n",
       "      <th>802</th>\n",
       "      <td>2020</td>\n",
       "      <td>United Arab Emirates</td>\n",
       "      <td>21</td>\n",
       "      <td>6.7908</td>\n",
       "      <td>0.652936</td>\n",
       "      <td>0.280656</td>\n",
       "      <td>0.787814</td>\n",
       "      <td>0.220214</td>\n",
       "      <td>1.431086</td>\n",
       "      <td>1.251171</td>\n",
       "      <td>2.166966</td>\n",
       "    </tr>\n",
       "    <tr>\n",
       "      <th>959</th>\n",
       "      <td>2021</td>\n",
       "      <td>United Arab Emirates</td>\n",
       "      <td>25</td>\n",
       "      <td>6.5610</td>\n",
       "      <td>0.670000</td>\n",
       "      <td>0.236000</td>\n",
       "      <td>0.594000</td>\n",
       "      <td>0.223000</td>\n",
       "      <td>1.555000</td>\n",
       "      <td>0.860000</td>\n",
       "      <td>2.422000</td>\n",
       "    </tr>\n",
       "    <tr>\n",
       "      <th>1107</th>\n",
       "      <td>2022</td>\n",
       "      <td>United Arab Emirates</td>\n",
       "      <td>24</td>\n",
       "      <td>6.5760</td>\n",
       "      <td>0.702000</td>\n",
       "      <td>0.204000</td>\n",
       "      <td>0.633000</td>\n",
       "      <td>0.250000</td>\n",
       "      <td>1.998000</td>\n",
       "      <td>0.980000</td>\n",
       "      <td>1.809000</td>\n",
       "    </tr>\n",
       "  </tbody>\n",
       "</table>\n",
       "</div>"
      ],
      "text/plain": [
       "      Year               Country  Happiness Rank  Happiness Score   Freedom  \\\n",
       "19    2015  United Arab Emirates              20           6.9010  0.641570   \n",
       "185   2016  United Arab Emirates              28           6.5730  0.562150   \n",
       "335   2017  United Arab Emirates              21           6.6480  0.608345   \n",
       "489   2018  United Arab Emirates              20           6.7740  0.284000   \n",
       "646   2019  United Arab Emirates              21           6.8250  0.598000   \n",
       "802   2020  United Arab Emirates              21           6.7908  0.652936   \n",
       "959   2021  United Arab Emirates              25           6.5610  0.670000   \n",
       "1107  2022  United Arab Emirates              24           6.5760  0.702000   \n",
       "\n",
       "      Generosity  Healthy life expectancy  Perceptions of corruption  \\\n",
       "19      0.264280                 0.809250                   0.385830   \n",
       "185     0.265910                 0.729930                   0.355610   \n",
       "335     0.360942                 0.726798                   0.324490   \n",
       "489     0.186000                 0.670000                        NaN   \n",
       "646     0.262000                 0.825000                   0.182000   \n",
       "802     0.280656                 0.787814                   0.220214   \n",
       "959     0.236000                 0.594000                   0.223000   \n",
       "1107    0.204000                 0.633000                   0.250000   \n",
       "\n",
       "      GDP per capita  Social support  Dystopia Residual  \n",
       "19          1.427270             NaN           2.247430  \n",
       "185         1.573520             NaN           2.215070  \n",
       "335         1.626343             NaN           1.734704  \n",
       "489         2.096000        0.776000                NaN  \n",
       "646         1.503000        1.310000                NaN  \n",
       "802         1.431086        1.251171           2.166966  \n",
       "959         1.555000        0.860000           2.422000  \n",
       "1107        1.998000        0.980000           1.809000  "
      ]
     },
     "execution_count": 7,
     "metadata": {},
     "output_type": "execute_result"
    }
   ],
   "source": [
    "# Filter United Arab emirates records\n",
    "emirates_df = df[df.Country=='United Arab Emirates']\n",
    "emirates_df"
   ]
  },
  {
   "cell_type": "code",
   "execution_count": 8,
   "metadata": {},
   "outputs": [
    {
     "data": {
      "text/plain": [
       "0.2773061545290767"
      ]
     },
     "execution_count": 8,
     "metadata": {},
     "output_type": "execute_result"
    },
    {
     "data": {
      "image/png": "[encoded data removed]",
      "text/plain": [
       "<Figure size 500x500 with 1 Axes>"
      ]
     },
     "metadata": {},
     "output_type": "display_data"
    }
   ],
   "source": [
    "# Impute via mean\n",
    "# Mean Imputation is a great choice, if distribution is normal or close to normal.\n",
    "# In case of skewed distribution we shoud go with meadian value.\n",
    "\n",
    "sns.displot(emirates_df, x=\"Perceptions of corruption\", kde=True)\n",
    "emirates_df[\"Perceptions of corruption\"].mean()"
   ]
  },
  {
   "cell_type": "code",
   "execution_count": 9,
   "metadata": {},
   "outputs": [],
   "source": [
    "# We can also observe that there is low variance, meaning they are around the mean value, so this is a good imputation.\n",
    "df[df['Perceptions of corruption'].isna()] = emirates_df[\"Perceptions of corruption\"].mean()"
   ]
  },
  {
   "attachments": {},
   "cell_type": "markdown",
   "metadata": {},
   "source": [
    "### Fix Missing Data with Interpolation\n",
    "- Dystopia Residual: 25% of the data is missing, 312 rows\n",
    "- Social support: 38% of the datais missing, 470 rows"
   ]
  },
  {
   "cell_type": "code",
   "execution_count": 10,
   "metadata": {},
   "outputs": [
    {
     "data": {
      "text/plain": [
       "<AxesSubplot: xlabel='Dystopia Residual', ylabel='Count'>"
      ]
     },
     "execution_count": 10,
     "metadata": {},
     "output_type": "execute_result"
    },
    {
     "data": {
      "image/png": "[encoded data removed]",
      "text/plain": [
       "<Figure size 1000x400 with 2 Axes>"
      ]
     },
     "metadata": {},
     "output_type": "display_data"
    }
   ],
   "source": [
    "# Visualize Social support \n",
    "f, ax = plt.subplots(1, 2, figsize=(10,4))\n",
    "\n",
    "sns.histplot(df, x=\"Social support\", kde=True, ax=ax[0]) # skewed distribution\n",
    "sns.histplot(df, x=\"Dystopia Residual\", kde=True, ax=ax[1])\n"
   ]
  },
  {
   "cell_type": "code",
   "execution_count": 11,
   "metadata": {},
   "outputs": [
    {
     "data": {
      "text/html": [
       "<div>\n",
       "<style scoped>\n",
       "    .dataframe tbody tr th:only-of-type {\n",
       "        vertical-align: middle;\n",
       "    }\n",
       "\n",
       "    .dataframe tbody tr th {\n",
       "        vertical-align: top;\n",
       "    }\n",
       "\n",
       "    .dataframe thead th {\n",
       "        text-align: right;\n",
       "    }\n",
       "</style>\n",
       "<table border=\"1\" class=\"dataframe\">\n",
       "  <thead>\n",
       "    <tr style=\"text-align: right;\">\n",
       "      <th></th>\n",
       "      <th>Year</th>\n",
       "      <th>Country</th>\n",
       "      <th>Happiness Rank</th>\n",
       "      <th>Happiness Score</th>\n",
       "      <th>Freedom</th>\n",
       "      <th>Generosity</th>\n",
       "      <th>Healthy life expectancy</th>\n",
       "      <th>Perceptions of corruption</th>\n",
       "      <th>GDP per capita</th>\n",
       "      <th>Social support</th>\n",
       "      <th>Dystopia Residual</th>\n",
       "    </tr>\n",
       "  </thead>\n",
       "  <tbody>\n",
       "    <tr>\n",
       "      <th>0</th>\n",
       "      <td>2015.0</td>\n",
       "      <td>146</td>\n",
       "      <td>1.0</td>\n",
       "      <td>7.587</td>\n",
       "      <td>0.66557</td>\n",
       "      <td>0.29678</td>\n",
       "      <td>0.94143</td>\n",
       "      <td>0.41978</td>\n",
       "      <td>1.39651</td>\n",
       "      <td>NaN</td>\n",
       "      <td>2.51738</td>\n",
       "    </tr>\n",
       "    <tr>\n",
       "      <th>1</th>\n",
       "      <td>2015.0</td>\n",
       "      <td>63</td>\n",
       "      <td>2.0</td>\n",
       "      <td>7.561</td>\n",
       "      <td>0.62877</td>\n",
       "      <td>0.43630</td>\n",
       "      <td>0.94784</td>\n",
       "      <td>0.14145</td>\n",
       "      <td>1.30232</td>\n",
       "      <td>NaN</td>\n",
       "      <td>2.70201</td>\n",
       "    </tr>\n",
       "    <tr>\n",
       "      <th>2</th>\n",
       "      <td>2015.0</td>\n",
       "      <td>40</td>\n",
       "      <td>3.0</td>\n",
       "      <td>7.527</td>\n",
       "      <td>0.64938</td>\n",
       "      <td>0.34139</td>\n",
       "      <td>0.87464</td>\n",
       "      <td>0.48357</td>\n",
       "      <td>1.32548</td>\n",
       "      <td>NaN</td>\n",
       "      <td>2.49204</td>\n",
       "    </tr>\n",
       "    <tr>\n",
       "      <th>3</th>\n",
       "      <td>2015.0</td>\n",
       "      <td>113</td>\n",
       "      <td>4.0</td>\n",
       "      <td>7.522</td>\n",
       "      <td>0.66973</td>\n",
       "      <td>0.34699</td>\n",
       "      <td>0.88521</td>\n",
       "      <td>0.36503</td>\n",
       "      <td>1.45900</td>\n",
       "      <td>NaN</td>\n",
       "      <td>2.46531</td>\n",
       "    </tr>\n",
       "    <tr>\n",
       "      <th>4</th>\n",
       "      <td>2015.0</td>\n",
       "      <td>26</td>\n",
       "      <td>5.0</td>\n",
       "      <td>7.427</td>\n",
       "      <td>0.63297</td>\n",
       "      <td>0.45811</td>\n",
       "      <td>0.90563</td>\n",
       "      <td>0.32957</td>\n",
       "      <td>1.32629</td>\n",
       "      <td>NaN</td>\n",
       "      <td>2.45176</td>\n",
       "    </tr>\n",
       "    <tr>\n",
       "      <th>...</th>\n",
       "      <td>...</td>\n",
       "      <td>...</td>\n",
       "      <td>...</td>\n",
       "      <td>...</td>\n",
       "      <td>...</td>\n",
       "      <td>...</td>\n",
       "      <td>...</td>\n",
       "      <td>...</td>\n",
       "      <td>...</td>\n",
       "      <td>...</td>\n",
       "      <td>...</td>\n",
       "    </tr>\n",
       "    <tr>\n",
       "      <th>1225</th>\n",
       "      <td>2022.0</td>\n",
       "      <td>19</td>\n",
       "      <td>142.0</td>\n",
       "      <td>3.471</td>\n",
       "      <td>0.57100</td>\n",
       "      <td>0.01200</td>\n",
       "      <td>0.28000</td>\n",
       "      <td>0.10200</td>\n",
       "      <td>1.50300</td>\n",
       "      <td>0.815</td>\n",
       "      <td>0.18700</td>\n",
       "    </tr>\n",
       "    <tr>\n",
       "      <th>1226</th>\n",
       "      <td>2022.0</td>\n",
       "      <td>127</td>\n",
       "      <td>143.0</td>\n",
       "      <td>3.268</td>\n",
       "      <td>0.62100</td>\n",
       "      <td>0.18700</td>\n",
       "      <td>0.46200</td>\n",
       "      <td>0.54400</td>\n",
       "      <td>0.78500</td>\n",
       "      <td>0.133</td>\n",
       "      <td>0.53600</td>\n",
       "    </tr>\n",
       "    <tr>\n",
       "      <th>1227</th>\n",
       "      <td>2022.0</td>\n",
       "      <td>170</td>\n",
       "      <td>144.0</td>\n",
       "      <td>2.995</td>\n",
       "      <td>0.32900</td>\n",
       "      <td>0.10600</td>\n",
       "      <td>0.27000</td>\n",
       "      <td>0.10500</td>\n",
       "      <td>0.94700</td>\n",
       "      <td>0.690</td>\n",
       "      <td>0.54800</td>\n",
       "    </tr>\n",
       "    <tr>\n",
       "      <th>1228</th>\n",
       "      <td>2022.0</td>\n",
       "      <td>82</td>\n",
       "      <td>145.0</td>\n",
       "      <td>2.955</td>\n",
       "      <td>0.10300</td>\n",
       "      <td>0.08200</td>\n",
       "      <td>0.63100</td>\n",
       "      <td>0.03400</td>\n",
       "      <td>1.39200</td>\n",
       "      <td>0.498</td>\n",
       "      <td>0.21600</td>\n",
       "    </tr>\n",
       "    <tr>\n",
       "      <th>1229</th>\n",
       "      <td>2022.0</td>\n",
       "      <td>1</td>\n",
       "      <td>146.0</td>\n",
       "      <td>2.404</td>\n",
       "      <td>0.00000</td>\n",
       "      <td>0.08900</td>\n",
       "      <td>0.28900</td>\n",
       "      <td>0.00500</td>\n",
       "      <td>0.75800</td>\n",
       "      <td>0.000</td>\n",
       "      <td>1.26300</td>\n",
       "    </tr>\n",
       "  </tbody>\n",
       "</table>\n",
       "<p>1230 rows × 11 columns</p>\n",
       "</div>"
      ],
      "text/plain": [
       "        Year  Country  Happiness Rank  Happiness Score  Freedom  Generosity  \\\n",
       "0     2015.0      146             1.0            7.587  0.66557     0.29678   \n",
       "1     2015.0       63             2.0            7.561  0.62877     0.43630   \n",
       "2     2015.0       40             3.0            7.527  0.64938     0.34139   \n",
       "3     2015.0      113             4.0            7.522  0.66973     0.34699   \n",
       "4     2015.0       26             5.0            7.427  0.63297     0.45811   \n",
       "...      ...      ...             ...              ...      ...         ...   \n",
       "1225  2022.0       19           142.0            3.471  0.57100     0.01200   \n",
       "1226  2022.0      127           143.0            3.268  0.62100     0.18700   \n",
       "1227  2022.0      170           144.0            2.995  0.32900     0.10600   \n",
       "1228  2022.0       82           145.0            2.955  0.10300     0.08200   \n",
       "1229  2022.0        1           146.0            2.404  0.00000     0.08900   \n",
       "\n",
       "      Healthy life expectancy  Perceptions of corruption  GDP per capita  \\\n",
       "0                     0.94143                    0.41978         1.39651   \n",
       "1                     0.94784                    0.14145         1.30232   \n",
       "2                     0.87464                    0.48357         1.32548   \n",
       "3                     0.88521                    0.36503         1.45900   \n",
       "4                     0.90563                    0.32957         1.32629   \n",
       "...                       ...                        ...             ...   \n",
       "1225                  0.28000                    0.10200         1.50300   \n",
       "1226                  0.46200                    0.54400         0.78500   \n",
       "1227                  0.27000                    0.10500         0.94700   \n",
       "1228                  0.63100                    0.03400         1.39200   \n",
       "1229                  0.28900                    0.00500         0.75800   \n",
       "\n",
       "      Social support  Dystopia Residual  \n",
       "0                NaN            2.51738  \n",
       "1                NaN            2.70201  \n",
       "2                NaN            2.49204  \n",
       "3                NaN            2.46531  \n",
       "4                NaN            2.45176  \n",
       "...              ...                ...  \n",
       "1225           0.815            0.18700  \n",
       "1226           0.133            0.53600  \n",
       "1227           0.690            0.54800  \n",
       "1228           0.498            0.21600  \n",
       "1229           0.000            1.26300  \n",
       "\n",
       "[1230 rows x 11 columns]"
      ]
     },
     "execution_count": 11,
     "metadata": {},
     "output_type": "execute_result"
    }
   ],
   "source": [
    "# Apply label encoding for column Country with .cat.codes\n",
    "df_le = df.copy()\n",
    "df_le['Country'] = df_le['Country'].astype('category').cat.codes\n",
    "df_le"
   ]
  },
  {
   "cell_type": "code",
   "execution_count": 12,
   "metadata": {},
   "outputs": [],
   "source": [
    "# Final datasets to compare algorithms\n",
    "df_ss = df_le['Social support'].copy()\n",
    "df_dr = df_le['Dystopia Residual'].copy()"
   ]
  },
  {
   "attachments": {},
   "cell_type": "markdown",
   "metadata": {},
   "source": [
    "#### KNN"
   ]
  },
  {
   "cell_type": "code",
   "execution_count": 13,
   "metadata": {},
   "outputs": [
    {
     "data": {
      "text/html": [
       "<div>\n",
       "<style scoped>\n",
       "    .dataframe tbody tr th:only-of-type {\n",
       "        vertical-align: middle;\n",
       "    }\n",
       "\n",
       "    .dataframe tbody tr th {\n",
       "        vertical-align: top;\n",
       "    }\n",
       "\n",
       "    .dataframe thead th {\n",
       "        text-align: right;\n",
       "    }\n",
       "</style>\n",
       "<table border=\"1\" class=\"dataframe\">\n",
       "  <thead>\n",
       "    <tr style=\"text-align: right;\">\n",
       "      <th></th>\n",
       "      <th>Social support</th>\n",
       "      <th>Dystopia Residual</th>\n",
       "    </tr>\n",
       "  </thead>\n",
       "  <tbody>\n",
       "    <tr>\n",
       "      <th>0</th>\n",
       "      <td>1.370481</td>\n",
       "      <td>2.51738</td>\n",
       "    </tr>\n",
       "    <tr>\n",
       "      <th>1</th>\n",
       "      <td>1.461513</td>\n",
       "      <td>2.70201</td>\n",
       "    </tr>\n",
       "    <tr>\n",
       "      <th>2</th>\n",
       "      <td>1.403490</td>\n",
       "      <td>2.49204</td>\n",
       "    </tr>\n",
       "    <tr>\n",
       "      <th>3</th>\n",
       "      <td>1.401235</td>\n",
       "      <td>2.46531</td>\n",
       "    </tr>\n",
       "    <tr>\n",
       "      <th>4</th>\n",
       "      <td>1.340878</td>\n",
       "      <td>2.45176</td>\n",
       "    </tr>\n",
       "    <tr>\n",
       "      <th>...</th>\n",
       "      <td>...</td>\n",
       "      <td>...</td>\n",
       "    </tr>\n",
       "    <tr>\n",
       "      <th>1225</th>\n",
       "      <td>0.815000</td>\n",
       "      <td>0.18700</td>\n",
       "    </tr>\n",
       "    <tr>\n",
       "      <th>1226</th>\n",
       "      <td>0.133000</td>\n",
       "      <td>0.53600</td>\n",
       "    </tr>\n",
       "    <tr>\n",
       "      <th>1227</th>\n",
       "      <td>0.690000</td>\n",
       "      <td>0.54800</td>\n",
       "    </tr>\n",
       "    <tr>\n",
       "      <th>1228</th>\n",
       "      <td>0.498000</td>\n",
       "      <td>0.21600</td>\n",
       "    </tr>\n",
       "    <tr>\n",
       "      <th>1229</th>\n",
       "      <td>0.000000</td>\n",
       "      <td>1.26300</td>\n",
       "    </tr>\n",
       "  </tbody>\n",
       "</table>\n",
       "<p>1230 rows × 2 columns</p>\n",
       "</div>"
      ],
      "text/plain": [
       "      Social support  Dystopia Residual\n",
       "0           1.370481            2.51738\n",
       "1           1.461513            2.70201\n",
       "2           1.403490            2.49204\n",
       "3           1.401235            2.46531\n",
       "4           1.340878            2.45176\n",
       "...              ...                ...\n",
       "1225        0.815000            0.18700\n",
       "1226        0.133000            0.53600\n",
       "1227        0.690000            0.54800\n",
       "1228        0.498000            0.21600\n",
       "1229        0.000000            1.26300\n",
       "\n",
       "[1230 rows x 2 columns]"
      ]
     },
     "execution_count": 13,
     "metadata": {},
     "output_type": "execute_result"
    }
   ],
   "source": [
    "### Defining KNN imputer\n",
    "from sklearn.impute import KNNImputer\n",
    "knn = KNNImputer(n_neighbors=5)\n",
    "\n",
    "df_KNNimputer = pd.DataFrame(knn.fit_transform(df_le)[:, [9,10]], columns=['Social support', 'Dystopia Residual'])\n",
    "df_KNNimputer"
   ]
  },
  {
   "cell_type": "code",
   "execution_count": 14,
   "metadata": {},
   "outputs": [
    {
     "data": {
      "text/plain": [
       "Social support       0\n",
       "Dystopia Residual    0\n",
       "dtype: int64"
      ]
     },
     "execution_count": 14,
     "metadata": {},
     "output_type": "execute_result"
    }
   ],
   "source": [
    "# Check missing values again \n",
    "df_KNNimputer.isna().sum()"
   ]
  },
  {
   "cell_type": "code",
   "execution_count": 15,
   "metadata": {},
   "outputs": [
    {
     "data": {
      "text/plain": [
       "[Text(0.5, 0, 'Dystopia Residual (KNN)')]"
      ]
     },
     "execution_count": 15,
     "metadata": {},
     "output_type": "execute_result"
    },
    {
     "data": {
      "image/png": "[encoded data removed]",
      "text/plain": [
       "<Figure size 1000x400 with 2 Axes>"
      ]
     },
     "metadata": {},
     "output_type": "display_data"
    }
   ],
   "source": [
    "# Plot distribution of columns with imputed values with KNN\n",
    "f, ax = plt.subplots(1, 2, figsize=(10,4))\n",
    "\n",
    "sns.histplot(df_KNNimputer, x='Social support', kde=True, ax=ax[0]).set(xlabel =\"Social support (KNN)\")\n",
    "sns.histplot(df_KNNimputer, x='Dystopia Residual', kde=True, ax=ax[1]).set(xlabel =\"Dystopia Residual (KNN)\")"
   ]
  },
  {
   "attachments": {},
   "cell_type": "markdown",
   "metadata": {},
   "source": [
    "#### Linear Regression\n",
    "- Linear does not really make sense here but it is good for comparing."
   ]
  },
  {
   "cell_type": "code",
   "execution_count": 16,
   "metadata": {},
   "outputs": [
    {
     "data": {
      "text/html": [
       "<div>\n",
       "<style scoped>\n",
       "    .dataframe tbody tr th:only-of-type {\n",
       "        vertical-align: middle;\n",
       "    }\n",
       "\n",
       "    .dataframe tbody tr th {\n",
       "        vertical-align: top;\n",
       "    }\n",
       "\n",
       "    .dataframe thead th {\n",
       "        text-align: right;\n",
       "    }\n",
       "</style>\n",
       "<table border=\"1\" class=\"dataframe\">\n",
       "  <thead>\n",
       "    <tr style=\"text-align: right;\">\n",
       "      <th></th>\n",
       "      <th>Social support</th>\n",
       "      <th>Dystopia Residual</th>\n",
       "    </tr>\n",
       "  </thead>\n",
       "  <tbody>\n",
       "    <tr>\n",
       "      <th>0</th>\n",
       "      <td>1.592</td>\n",
       "      <td>2.51738</td>\n",
       "    </tr>\n",
       "    <tr>\n",
       "      <th>1</th>\n",
       "      <td>1.592</td>\n",
       "      <td>2.70201</td>\n",
       "    </tr>\n",
       "    <tr>\n",
       "      <th>2</th>\n",
       "      <td>1.592</td>\n",
       "      <td>2.49204</td>\n",
       "    </tr>\n",
       "    <tr>\n",
       "      <th>3</th>\n",
       "      <td>1.592</td>\n",
       "      <td>2.46531</td>\n",
       "    </tr>\n",
       "    <tr>\n",
       "      <th>4</th>\n",
       "      <td>1.592</td>\n",
       "      <td>2.45176</td>\n",
       "    </tr>\n",
       "    <tr>\n",
       "      <th>...</th>\n",
       "      <td>...</td>\n",
       "      <td>...</td>\n",
       "    </tr>\n",
       "    <tr>\n",
       "      <th>1225</th>\n",
       "      <td>0.815</td>\n",
       "      <td>0.18700</td>\n",
       "    </tr>\n",
       "    <tr>\n",
       "      <th>1226</th>\n",
       "      <td>0.133</td>\n",
       "      <td>0.53600</td>\n",
       "    </tr>\n",
       "    <tr>\n",
       "      <th>1227</th>\n",
       "      <td>0.690</td>\n",
       "      <td>0.54800</td>\n",
       "    </tr>\n",
       "    <tr>\n",
       "      <th>1228</th>\n",
       "      <td>0.498</td>\n",
       "      <td>0.21600</td>\n",
       "    </tr>\n",
       "    <tr>\n",
       "      <th>1229</th>\n",
       "      <td>0.000</td>\n",
       "      <td>1.26300</td>\n",
       "    </tr>\n",
       "  </tbody>\n",
       "</table>\n",
       "<p>1230 rows × 2 columns</p>\n",
       "</div>"
      ],
      "text/plain": [
       "      Social support  Dystopia Residual\n",
       "0              1.592            2.51738\n",
       "1              1.592            2.70201\n",
       "2              1.592            2.49204\n",
       "3              1.592            2.46531\n",
       "4              1.592            2.45176\n",
       "...              ...                ...\n",
       "1225           0.815            0.18700\n",
       "1226           0.133            0.53600\n",
       "1227           0.690            0.54800\n",
       "1228           0.498            0.21600\n",
       "1229           0.000            1.26300\n",
       "\n",
       "[1230 rows x 2 columns]"
      ]
     },
     "execution_count": 16,
     "metadata": {},
     "output_type": "execute_result"
    }
   ],
   "source": [
    "df_LRimputer = df_le.interpolate(method='linear', limit_direction='both', axis=0)[['Social support', 'Dystopia Residual']]\n",
    "df_LRimputer"
   ]
  },
  {
   "cell_type": "code",
   "execution_count": 17,
   "metadata": {},
   "outputs": [
    {
     "data": {
      "text/plain": [
       "Social support       0\n",
       "Dystopia Residual    0\n",
       "dtype: int64"
      ]
     },
     "execution_count": 17,
     "metadata": {},
     "output_type": "execute_result"
    }
   ],
   "source": [
    "# Check missing values again \n",
    "df_LRimputer.isna().sum()"
   ]
  },
  {
   "cell_type": "code",
   "execution_count": 18,
   "metadata": {},
   "outputs": [
    {
     "data": {
      "text/plain": [
       "[Text(0.5, 0, 'Dystopia Residual (LR)')]"
      ]
     },
     "execution_count": 18,
     "metadata": {},
     "output_type": "execute_result"
    },
    {
     "data": {
      "image/png": "[encoded data removed]",
      "text/plain": [
       "<Figure size 1000x400 with 2 Axes>"
      ]
     },
     "metadata": {},
     "output_type": "display_data"
    }
   ],
   "source": [
    "# Plot distribution of columns with imputed values with Linear Regression\n",
    "f, ax = plt.subplots(1, 2, figsize=(10,4))\n",
    "\n",
    "sns.histplot(df_LRimputer, x='Social support', kde=True, ax=ax[0]).set(xlabel =\"Social support (LR)\")\n",
    "sns.histplot(df_LRimputer, x='Dystopia Residual', kde=True, ax=ax[1]).set(xlabel =\"Dystopia Residual (LR)\")"
   ]
  },
  {
   "attachments": {},
   "cell_type": "markdown",
   "metadata": {},
   "source": [
    "We can see that linear regressor skewed the Social Support distribution a lot to the right, so we migh forsee that it is not a good aproximation for our case."
   ]
  },
  {
   "attachments": {},
   "cell_type": "markdown",
   "metadata": {},
   "source": [
    "#### Spline Regression"
   ]
  },
  {
   "cell_type": "code",
   "execution_count": 19,
   "metadata": {},
   "outputs": [
    {
     "data": {
      "text/html": [
       "<div>\n",
       "<style scoped>\n",
       "    .dataframe tbody tr th:only-of-type {\n",
       "        vertical-align: middle;\n",
       "    }\n",
       "\n",
       "    .dataframe tbody tr th {\n",
       "        vertical-align: top;\n",
       "    }\n",
       "\n",
       "    .dataframe thead th {\n",
       "        text-align: right;\n",
       "    }\n",
       "</style>\n",
       "<table border=\"1\" class=\"dataframe\">\n",
       "  <thead>\n",
       "    <tr style=\"text-align: right;\">\n",
       "      <th></th>\n",
       "      <th>Social support</th>\n",
       "      <th>Dystopia Residual</th>\n",
       "    </tr>\n",
       "  </thead>\n",
       "  <tbody>\n",
       "    <tr>\n",
       "      <th>0</th>\n",
       "      <td>103.607278</td>\n",
       "      <td>2.51738</td>\n",
       "    </tr>\n",
       "    <tr>\n",
       "      <th>1</th>\n",
       "      <td>102.954611</td>\n",
       "      <td>2.70201</td>\n",
       "    </tr>\n",
       "    <tr>\n",
       "      <th>2</th>\n",
       "      <td>102.305197</td>\n",
       "      <td>2.49204</td>\n",
       "    </tr>\n",
       "    <tr>\n",
       "      <th>3</th>\n",
       "      <td>101.659024</td>\n",
       "      <td>2.46531</td>\n",
       "    </tr>\n",
       "    <tr>\n",
       "      <th>4</th>\n",
       "      <td>101.016081</td>\n",
       "      <td>2.45176</td>\n",
       "    </tr>\n",
       "    <tr>\n",
       "      <th>...</th>\n",
       "      <td>...</td>\n",
       "      <td>...</td>\n",
       "    </tr>\n",
       "    <tr>\n",
       "      <th>1225</th>\n",
       "      <td>0.815000</td>\n",
       "      <td>0.18700</td>\n",
       "    </tr>\n",
       "    <tr>\n",
       "      <th>1226</th>\n",
       "      <td>0.133000</td>\n",
       "      <td>0.53600</td>\n",
       "    </tr>\n",
       "    <tr>\n",
       "      <th>1227</th>\n",
       "      <td>0.690000</td>\n",
       "      <td>0.54800</td>\n",
       "    </tr>\n",
       "    <tr>\n",
       "      <th>1228</th>\n",
       "      <td>0.498000</td>\n",
       "      <td>0.21600</td>\n",
       "    </tr>\n",
       "    <tr>\n",
       "      <th>1229</th>\n",
       "      <td>0.000000</td>\n",
       "      <td>1.26300</td>\n",
       "    </tr>\n",
       "  </tbody>\n",
       "</table>\n",
       "<p>1230 rows × 2 columns</p>\n",
       "</div>"
      ],
      "text/plain": [
       "      Social support  Dystopia Residual\n",
       "0         103.607278            2.51738\n",
       "1         102.954611            2.70201\n",
       "2         102.305197            2.49204\n",
       "3         101.659024            2.46531\n",
       "4         101.016081            2.45176\n",
       "...              ...                ...\n",
       "1225        0.815000            0.18700\n",
       "1226        0.133000            0.53600\n",
       "1227        0.690000            0.54800\n",
       "1228        0.498000            0.21600\n",
       "1229        0.000000            1.26300\n",
       "\n",
       "[1230 rows x 2 columns]"
      ]
     },
     "execution_count": 19,
     "metadata": {},
     "output_type": "execute_result"
    }
   ],
   "source": [
    "df_SRimputer = df_le.interpolate(method='spline', order=5, limit_direction='both', axis=0)[['Social support', 'Dystopia Residual']]\n",
    "df_SRimputer"
   ]
  },
  {
   "cell_type": "code",
   "execution_count": 20,
   "metadata": {},
   "outputs": [
    {
     "data": {
      "text/plain": [
       "Social support       0\n",
       "Dystopia Residual    0\n",
       "dtype: int64"
      ]
     },
     "execution_count": 20,
     "metadata": {},
     "output_type": "execute_result"
    }
   ],
   "source": [
    "# Check missing values again \n",
    "df_SRimputer.isna().sum()"
   ]
  },
  {
   "cell_type": "code",
   "execution_count": 21,
   "metadata": {},
   "outputs": [
    {
     "data": {
      "text/plain": [
       "[Text(0.5, 0, 'Dystopia Residual (SplineR)')]"
      ]
     },
     "execution_count": 21,
     "metadata": {},
     "output_type": "execute_result"
    },
    {
     "data": {
      "image/png": "[encoded data removed]",
      "text/plain": [
       "<Figure size 1000x400 with 2 Axes>"
      ]
     },
     "metadata": {},
     "output_type": "display_data"
    }
   ],
   "source": [
    "# Plot distribution of columns with imputed values with Spline\n",
    "f, ax = plt.subplots(1, 2, figsize=(10,4))\n",
    "\n",
    "sns.histplot(df_SRimputer, x='Social support', kde=True, ax=ax[0]).set(xlabel =\"Social support (SplineR)\")\n",
    "sns.histplot(df_SRimputer, x='Dystopia Residual', kde=True, ax=ax[1]).set(xlabel =\"Dystopia Residual (SplineR)\")"
   ]
  },
  {
   "attachments": {},
   "cell_type": "markdown",
   "metadata": {},
   "source": [
    "For social support we can see it created values too high."
   ]
  },
  {
   "attachments": {},
   "cell_type": "markdown",
   "metadata": {},
   "source": [
    "### From Derivatives Regression\n",
    "Construct a piecewise polynomial in the Bernstein basis, compatible with the specified values and derivatives at breakpoints.\n",
    "\n",
    "If k derivatives are specified at a breakpoint x, the constructed polynomial is exactly k times continuously differentiable at x, unless the order is provided explicitly. In the latter case, the smoothness of the polynomial at the breakpoint is controlled by the order.\n",
    "\n",
    "Deduces the number of derivatives to match at each end from order and the number of derivatives available. If possible it uses the same number of derivatives from each end; if the number is odd it tries to take the extra one from y2. In any case if not enough derivatives are available at one end or another it draws enough to make up the total from the other end.\n",
    "\n",
    "If the order is too high and not enough derivatives are available, an exception is raised."
   ]
  },
  {
   "cell_type": "code",
   "execution_count": 22,
   "metadata": {},
   "outputs": [
    {
     "data": {
      "text/html": [
       "<div>\n",
       "<style scoped>\n",
       "    .dataframe tbody tr th:only-of-type {\n",
       "        vertical-align: middle;\n",
       "    }\n",
       "\n",
       "    .dataframe tbody tr th {\n",
       "        vertical-align: top;\n",
       "    }\n",
       "\n",
       "    .dataframe thead th {\n",
       "        text-align: right;\n",
       "    }\n",
       "</style>\n",
       "<table border=\"1\" class=\"dataframe\">\n",
       "  <thead>\n",
       "    <tr style=\"text-align: right;\">\n",
       "      <th></th>\n",
       "      <th>Social support</th>\n",
       "      <th>Dystopia Residual</th>\n",
       "    </tr>\n",
       "  </thead>\n",
       "  <tbody>\n",
       "    <tr>\n",
       "      <th>0</th>\n",
       "      <td>NaN</td>\n",
       "      <td>2.51738</td>\n",
       "    </tr>\n",
       "    <tr>\n",
       "      <th>1</th>\n",
       "      <td>NaN</td>\n",
       "      <td>2.70201</td>\n",
       "    </tr>\n",
       "    <tr>\n",
       "      <th>2</th>\n",
       "      <td>NaN</td>\n",
       "      <td>2.49204</td>\n",
       "    </tr>\n",
       "    <tr>\n",
       "      <th>3</th>\n",
       "      <td>NaN</td>\n",
       "      <td>2.46531</td>\n",
       "    </tr>\n",
       "    <tr>\n",
       "      <th>4</th>\n",
       "      <td>NaN</td>\n",
       "      <td>2.45176</td>\n",
       "    </tr>\n",
       "    <tr>\n",
       "      <th>...</th>\n",
       "      <td>...</td>\n",
       "      <td>...</td>\n",
       "    </tr>\n",
       "    <tr>\n",
       "      <th>1225</th>\n",
       "      <td>0.815</td>\n",
       "      <td>0.18700</td>\n",
       "    </tr>\n",
       "    <tr>\n",
       "      <th>1226</th>\n",
       "      <td>0.133</td>\n",
       "      <td>0.53600</td>\n",
       "    </tr>\n",
       "    <tr>\n",
       "      <th>1227</th>\n",
       "      <td>0.690</td>\n",
       "      <td>0.54800</td>\n",
       "    </tr>\n",
       "    <tr>\n",
       "      <th>1228</th>\n",
       "      <td>0.498</td>\n",
       "      <td>0.21600</td>\n",
       "    </tr>\n",
       "    <tr>\n",
       "      <th>1229</th>\n",
       "      <td>0.000</td>\n",
       "      <td>1.26300</td>\n",
       "    </tr>\n",
       "  </tbody>\n",
       "</table>\n",
       "<p>1230 rows × 2 columns</p>\n",
       "</div>"
      ],
      "text/plain": [
       "      Social support  Dystopia Residual\n",
       "0                NaN            2.51738\n",
       "1                NaN            2.70201\n",
       "2                NaN            2.49204\n",
       "3                NaN            2.46531\n",
       "4                NaN            2.45176\n",
       "...              ...                ...\n",
       "1225           0.815            0.18700\n",
       "1226           0.133            0.53600\n",
       "1227           0.690            0.54800\n",
       "1228           0.498            0.21600\n",
       "1229           0.000            1.26300\n",
       "\n",
       "[1230 rows x 2 columns]"
      ]
     },
     "execution_count": 22,
     "metadata": {},
     "output_type": "execute_result"
    }
   ],
   "source": [
    "df_DRimputer = df_le.interpolate(method='from_derivatives', limit_direction='both', axis=0)[['Social support', 'Dystopia Residual']]\n",
    "df_DRimputer"
   ]
  },
  {
   "cell_type": "code",
   "execution_count": 23,
   "metadata": {},
   "outputs": [
    {
     "data": {
      "text/plain": [
       "Social support       470\n",
       "Dystopia Residual      0\n",
       "dtype: int64"
      ]
     },
     "execution_count": 23,
     "metadata": {},
     "output_type": "execute_result"
    }
   ],
   "source": [
    "# Check missing values again \n",
    "df_DRimputer.isna().sum()"
   ]
  },
  {
   "attachments": {},
   "cell_type": "markdown",
   "metadata": {},
   "source": [
    "It seems that itcouldnot interpolate the first variables."
   ]
  },
  {
   "cell_type": "code",
   "execution_count": 24,
   "metadata": {},
   "outputs": [
    {
     "data": {
      "text/plain": [
       "[Text(0.5, 0, 'Dystopia Residual (CubicR)')]"
      ]
     },
     "execution_count": 24,
     "metadata": {},
     "output_type": "execute_result"
    },
    {
     "data": {
      "image/png": "[encoded data removed]",
      "text/plain": [
       "<Figure size 1000x400 with 2 Axes>"
      ]
     },
     "metadata": {},
     "output_type": "display_data"
    }
   ],
   "source": [
    "# Plot distribution of columns with imputed values with Spline\n",
    "f, ax = plt.subplots(1, 2, figsize=(10,4))\n",
    "\n",
    "sns.histplot(df_DRimputer, x='Social support', kde=True, ax=ax[0]).set(xlabel =\"Social support (CubicR)\")\n",
    "sns.histplot(df_DRimputer, x='Dystopia Residual', kde=True, ax=ax[1]).set(xlabel =\"Dystopia Residual (CubicR)\")"
   ]
  },
  {
   "attachments": {},
   "cell_type": "markdown",
   "metadata": {},
   "source": [
    "## Compare\n",
    "\n",
    "None of the predicted values will be completely accurate, and as we dont have the real values to compare we can not trully validate. But we could select the one that keeps the distribution or separate the dataset into two, one with the rows with nan and compare both distributions."
   ]
  },
  {
   "cell_type": "code",
   "execution_count": 25,
   "metadata": {},
   "outputs": [],
   "source": [
    "# Prepare df\n",
    "df_KNNimputer['regressor'] = 'KNN'\n",
    "df_LRimputer['regressor'] = 'Linear'\n",
    "df_SRimputer['regressor'] = 'Spline'\n",
    "df_DRimputer['regressor'] = 'Derivatives'\n",
    "df_basic = df[['Social support', 'Dystopia Residual']].copy().assign(regressor='Original')"
   ]
  },
  {
   "cell_type": "code",
   "execution_count": 26,
   "metadata": {},
   "outputs": [
    {
     "data": {
      "text/html": [
       "<div>\n",
       "<style scoped>\n",
       "    .dataframe tbody tr th:only-of-type {\n",
       "        vertical-align: middle;\n",
       "    }\n",
       "\n",
       "    .dataframe tbody tr th {\n",
       "        vertical-align: top;\n",
       "    }\n",
       "\n",
       "    .dataframe thead th {\n",
       "        text-align: right;\n",
       "    }\n",
       "</style>\n",
       "<table border=\"1\" class=\"dataframe\">\n",
       "  <thead>\n",
       "    <tr style=\"text-align: right;\">\n",
       "      <th></th>\n",
       "      <th>Social support</th>\n",
       "      <th>Dystopia Residual</th>\n",
       "      <th>regressor</th>\n",
       "    </tr>\n",
       "  </thead>\n",
       "  <tbody>\n",
       "    <tr>\n",
       "      <th>0</th>\n",
       "      <td>NaN</td>\n",
       "      <td>2.51738</td>\n",
       "      <td>Original</td>\n",
       "    </tr>\n",
       "    <tr>\n",
       "      <th>1</th>\n",
       "      <td>NaN</td>\n",
       "      <td>2.70201</td>\n",
       "      <td>Original</td>\n",
       "    </tr>\n",
       "    <tr>\n",
       "      <th>2</th>\n",
       "      <td>NaN</td>\n",
       "      <td>2.49204</td>\n",
       "      <td>Original</td>\n",
       "    </tr>\n",
       "    <tr>\n",
       "      <th>3</th>\n",
       "      <td>NaN</td>\n",
       "      <td>2.46531</td>\n",
       "      <td>Original</td>\n",
       "    </tr>\n",
       "    <tr>\n",
       "      <th>4</th>\n",
       "      <td>NaN</td>\n",
       "      <td>2.45176</td>\n",
       "      <td>Original</td>\n",
       "    </tr>\n",
       "    <tr>\n",
       "      <th>...</th>\n",
       "      <td>...</td>\n",
       "      <td>...</td>\n",
       "      <td>...</td>\n",
       "    </tr>\n",
       "    <tr>\n",
       "      <th>4915</th>\n",
       "      <td>0.815</td>\n",
       "      <td>NaN</td>\n",
       "      <td>Spline</td>\n",
       "    </tr>\n",
       "    <tr>\n",
       "      <th>4916</th>\n",
       "      <td>0.133</td>\n",
       "      <td>NaN</td>\n",
       "      <td>Spline</td>\n",
       "    </tr>\n",
       "    <tr>\n",
       "      <th>4917</th>\n",
       "      <td>0.690</td>\n",
       "      <td>NaN</td>\n",
       "      <td>Spline</td>\n",
       "    </tr>\n",
       "    <tr>\n",
       "      <th>4918</th>\n",
       "      <td>0.498</td>\n",
       "      <td>NaN</td>\n",
       "      <td>Spline</td>\n",
       "    </tr>\n",
       "    <tr>\n",
       "      <th>4919</th>\n",
       "      <td>0.000</td>\n",
       "      <td>NaN</td>\n",
       "      <td>Spline</td>\n",
       "    </tr>\n",
       "  </tbody>\n",
       "</table>\n",
       "<p>4920 rows × 3 columns</p>\n",
       "</div>"
      ],
      "text/plain": [
       "      Social support  Dystopia Residual regressor\n",
       "0                NaN            2.51738  Original\n",
       "1                NaN            2.70201  Original\n",
       "2                NaN            2.49204  Original\n",
       "3                NaN            2.46531  Original\n",
       "4                NaN            2.45176  Original\n",
       "...              ...                ...       ...\n",
       "4915           0.815                NaN    Spline\n",
       "4916           0.133                NaN    Spline\n",
       "4917           0.690                NaN    Spline\n",
       "4918           0.498                NaN    Spline\n",
       "4919           0.000                NaN    Spline\n",
       "\n",
       "[4920 rows x 3 columns]"
      ]
     },
     "execution_count": 26,
     "metadata": {},
     "output_type": "execute_result"
    }
   ],
   "source": [
    "# SOCIAL SUPPORT\n",
    "frames = [df_basic, df_KNNimputer[['regressor', 'Social support']], df_LRimputer[['regressor', 'Social support']], df_SRimputer[['regressor', 'Social support']]]\n",
    "ss_results =  pd.concat(frames).reset_index(drop=True)\n",
    "ss_results"
   ]
  },
  {
   "cell_type": "code",
   "execution_count": 27,
   "metadata": {},
   "outputs": [
    {
     "data": {
      "text/plain": [
       "(-1.0, 2.0)"
      ]
     },
     "execution_count": 27,
     "metadata": {},
     "output_type": "execute_result"
    },
    {
     "data": {
      "image/png": "[encoded data removed]",
      "text/plain": [
       "<Figure size 614.875x500 with 1 Axes>"
      ]
     },
     "metadata": {},
     "output_type": "display_data"
    }
   ],
   "source": [
    "sns.displot(ss_results, x=\"Social support\", hue=\"regressor\", kind=\"kde\", fill=True)\n",
    "plt.xlim(-1, 2)"
   ]
  },
  {
   "attachments": {},
   "cell_type": "markdown",
   "metadata": {},
   "source": [
    "- KNN imputer seems to model best the original distribution for the variable Social Support.\n",
    "- Spline does a really bad job."
   ]
  },
  {
   "cell_type": "code",
   "execution_count": 28,
   "metadata": {},
   "outputs": [
    {
     "name": "stdout",
     "output_type": "stream",
     "text": [
      "KstestResult(statistic=0.3821138211382114, pvalue=2.0910838759994877e-80)\n",
      "KstestResult(statistic=0.3821138211382114, pvalue=2.0910838759994877e-80)\n",
      "KstestResult(statistic=0.3821138211382114, pvalue=2.0910838759994877e-80)\n"
     ]
    }
   ],
   "source": [
    "# Calculate distribution similarity\n",
    "from scipy.stats import ks_2samp\n",
    "\n",
    "print(ks_2samp(df_basic['Social support'], df_KNNimputer['Social support']))\n",
    "print(ks_2samp(df_basic['Social support'], df_LRimputer['Social support']))\n",
    "print(ks_2samp(df_basic['Social support'], df_SRimputer['Social support']))"
   ]
  },
  {
   "cell_type": "code",
   "execution_count": 29,
   "metadata": {},
   "outputs": [
    {
     "data": {
      "text/html": [
       "<div>\n",
       "<style scoped>\n",
       "    .dataframe tbody tr th:only-of-type {\n",
       "        vertical-align: middle;\n",
       "    }\n",
       "\n",
       "    .dataframe tbody tr th {\n",
       "        vertical-align: top;\n",
       "    }\n",
       "\n",
       "    .dataframe thead th {\n",
       "        text-align: right;\n",
       "    }\n",
       "</style>\n",
       "<table border=\"1\" class=\"dataframe\">\n",
       "  <thead>\n",
       "    <tr style=\"text-align: right;\">\n",
       "      <th></th>\n",
       "      <th>Social support</th>\n",
       "      <th>Dystopia Residual</th>\n",
       "      <th>regressor</th>\n",
       "    </tr>\n",
       "  </thead>\n",
       "  <tbody>\n",
       "    <tr>\n",
       "      <th>0</th>\n",
       "      <td>NaN</td>\n",
       "      <td>2.51738</td>\n",
       "      <td>Original</td>\n",
       "    </tr>\n",
       "    <tr>\n",
       "      <th>1</th>\n",
       "      <td>NaN</td>\n",
       "      <td>2.70201</td>\n",
       "      <td>Original</td>\n",
       "    </tr>\n",
       "    <tr>\n",
       "      <th>2</th>\n",
       "      <td>NaN</td>\n",
       "      <td>2.49204</td>\n",
       "      <td>Original</td>\n",
       "    </tr>\n",
       "    <tr>\n",
       "      <th>3</th>\n",
       "      <td>NaN</td>\n",
       "      <td>2.46531</td>\n",
       "      <td>Original</td>\n",
       "    </tr>\n",
       "    <tr>\n",
       "      <th>4</th>\n",
       "      <td>NaN</td>\n",
       "      <td>2.45176</td>\n",
       "      <td>Original</td>\n",
       "    </tr>\n",
       "    <tr>\n",
       "      <th>...</th>\n",
       "      <td>...</td>\n",
       "      <td>...</td>\n",
       "      <td>...</td>\n",
       "    </tr>\n",
       "    <tr>\n",
       "      <th>6145</th>\n",
       "      <td>NaN</td>\n",
       "      <td>0.18700</td>\n",
       "      <td>Derivatives</td>\n",
       "    </tr>\n",
       "    <tr>\n",
       "      <th>6146</th>\n",
       "      <td>NaN</td>\n",
       "      <td>0.53600</td>\n",
       "      <td>Derivatives</td>\n",
       "    </tr>\n",
       "    <tr>\n",
       "      <th>6147</th>\n",
       "      <td>NaN</td>\n",
       "      <td>0.54800</td>\n",
       "      <td>Derivatives</td>\n",
       "    </tr>\n",
       "    <tr>\n",
       "      <th>6148</th>\n",
       "      <td>NaN</td>\n",
       "      <td>0.21600</td>\n",
       "      <td>Derivatives</td>\n",
       "    </tr>\n",
       "    <tr>\n",
       "      <th>6149</th>\n",
       "      <td>NaN</td>\n",
       "      <td>1.26300</td>\n",
       "      <td>Derivatives</td>\n",
       "    </tr>\n",
       "  </tbody>\n",
       "</table>\n",
       "<p>6150 rows × 3 columns</p>\n",
       "</div>"
      ],
      "text/plain": [
       "      Social support  Dystopia Residual    regressor\n",
       "0                NaN            2.51738     Original\n",
       "1                NaN            2.70201     Original\n",
       "2                NaN            2.49204     Original\n",
       "3                NaN            2.46531     Original\n",
       "4                NaN            2.45176     Original\n",
       "...              ...                ...          ...\n",
       "6145             NaN            0.18700  Derivatives\n",
       "6146             NaN            0.53600  Derivatives\n",
       "6147             NaN            0.54800  Derivatives\n",
       "6148             NaN            0.21600  Derivatives\n",
       "6149             NaN            1.26300  Derivatives\n",
       "\n",
       "[6150 rows x 3 columns]"
      ]
     },
     "execution_count": 29,
     "metadata": {},
     "output_type": "execute_result"
    }
   ],
   "source": [
    "# DYSTOPIA RESIDUAL\n",
    "frames = [df_basic, df_KNNimputer[['regressor', 'Dystopia Residual']], df_LRimputer[['regressor', 'Dystopia Residual']], df_SRimputer[['regressor', 'Dystopia Residual']], df_DRimputer[['regressor', 'Dystopia Residual']]]\n",
    "dr_results =  pd.concat(frames).reset_index(drop=True)\n",
    "dr_results"
   ]
  },
  {
   "cell_type": "code",
   "execution_count": 30,
   "metadata": {},
   "outputs": [
    {
     "data": {
      "text/plain": [
       "<seaborn.axisgrid.FacetGrid at 0x7f8b060250c0>"
      ]
     },
     "execution_count": 30,
     "metadata": {},
     "output_type": "execute_result"
    },
    {
     "data": {
      "image/png": "[encoded data removed]",
      "text/plain": [
       "<Figure size 642x500 with 1 Axes>"
      ]
     },
     "metadata": {},
     "output_type": "display_data"
    }
   ],
   "source": [
    "sns.displot(dr_results, x=\"Dystopia Residual\", hue=\"regressor\", kind=\"kde\", fill=True)\n",
    "# plt.xlim(-1, 2)"
   ]
  },
  {
   "cell_type": "code",
   "execution_count": 31,
   "metadata": {},
   "outputs": [
    {
     "name": "stdout",
     "output_type": "stream",
     "text": [
      "KstestResult(statistic=0.2528455284552846, pvalue=6.181941983060422e-35)\n",
      "KstestResult(statistic=0.2528455284552846, pvalue=6.181941983060422e-35)\n",
      "KstestResult(statistic=0.2528455284552846, pvalue=6.181941983060422e-35)\n"
     ]
    }
   ],
   "source": [
    "# Calculate distribution similarity\n",
    "from scipy.stats import ks_2samp\n",
    "\n",
    "print(ks_2samp(df_basic['Dystopia Residual'], df_KNNimputer['Dystopia Residual']))\n",
    "print(ks_2samp(df_basic['Dystopia Residual'], df_LRimputer['Dystopia Residual']))\n",
    "print(ks_2samp(df_basic['Dystopia Residual'], df_SRimputer['Dystopia Residual']))"
   ]
  },
  {
   "attachments": {},
   "cell_type": "markdown",
   "metadata": {},
   "source": [
    "- Linear and Derivatives are the same.\n",
    "- KNN and Linear seem to estimate best the original distribution."
   ]
  },
  {
   "cell_type": "code",
   "execution_count": 32,
   "metadata": {},
   "outputs": [
    {
     "data": {
      "text/plain": [
       "<seaborn.axisgrid.FacetGrid at 0x7f8b059eb460>"
      ]
     },
     "execution_count": 32,
     "metadata": {},
     "output_type": "execute_result"
    },
    {
     "data": {
      "image/png": "[encoded data removed]",
      "text/plain": [
       "<Figure size 614.875x500 with 1 Axes>"
      ]
     },
     "metadata": {},
     "output_type": "display_data"
    }
   ],
   "source": [
    "sns.displot(dr_results[dr_results['regressor'].isin(['Original', 'Linear', 'KNN'])], x=\"Dystopia Residual\", hue=\"regressor\", kind=\"kde\")"
   ]
  },
  {
   "attachments": {},
   "cell_type": "markdown",
   "metadata": {},
   "source": [
    "## Impute\n",
    "Lets impute Social Support column with KNN and Dystopia residual with Linear Regression."
   ]
  },
  {
   "cell_type": "code",
   "execution_count": 33,
   "metadata": {},
   "outputs": [
    {
     "data": {
      "text/html": [
       "<div>\n",
       "<style scoped>\n",
       "    .dataframe tbody tr th:only-of-type {\n",
       "        vertical-align: middle;\n",
       "    }\n",
       "\n",
       "    .dataframe tbody tr th {\n",
       "        vertical-align: top;\n",
       "    }\n",
       "\n",
       "    .dataframe thead th {\n",
       "        text-align: right;\n",
       "    }\n",
       "</style>\n",
       "<table border=\"1\" class=\"dataframe\">\n",
       "  <thead>\n",
       "    <tr style=\"text-align: right;\">\n",
       "      <th></th>\n",
       "      <th>Year</th>\n",
       "      <th>Country</th>\n",
       "      <th>Happiness Rank</th>\n",
       "      <th>Happiness Score</th>\n",
       "      <th>Freedom</th>\n",
       "      <th>Generosity</th>\n",
       "      <th>Healthy life expectancy</th>\n",
       "      <th>Perceptions of corruption</th>\n",
       "      <th>GDP per capita</th>\n",
       "      <th>Social support</th>\n",
       "      <th>Dystopia Residual</th>\n",
       "    </tr>\n",
       "  </thead>\n",
       "  <tbody>\n",
       "    <tr>\n",
       "      <th>0</th>\n",
       "      <td>2015.0</td>\n",
       "      <td>Switzerland</td>\n",
       "      <td>1.0</td>\n",
       "      <td>7.587</td>\n",
       "      <td>0.66557</td>\n",
       "      <td>0.29678</td>\n",
       "      <td>0.94143</td>\n",
       "      <td>0.41978</td>\n",
       "      <td>1.39651</td>\n",
       "      <td>1.370481</td>\n",
       "      <td>2.51738</td>\n",
       "    </tr>\n",
       "    <tr>\n",
       "      <th>1</th>\n",
       "      <td>2015.0</td>\n",
       "      <td>Iceland</td>\n",
       "      <td>2.0</td>\n",
       "      <td>7.561</td>\n",
       "      <td>0.62877</td>\n",
       "      <td>0.43630</td>\n",
       "      <td>0.94784</td>\n",
       "      <td>0.14145</td>\n",
       "      <td>1.30232</td>\n",
       "      <td>1.461513</td>\n",
       "      <td>2.70201</td>\n",
       "    </tr>\n",
       "    <tr>\n",
       "      <th>2</th>\n",
       "      <td>2015.0</td>\n",
       "      <td>Denmark</td>\n",
       "      <td>3.0</td>\n",
       "      <td>7.527</td>\n",
       "      <td>0.64938</td>\n",
       "      <td>0.34139</td>\n",
       "      <td>0.87464</td>\n",
       "      <td>0.48357</td>\n",
       "      <td>1.32548</td>\n",
       "      <td>1.403490</td>\n",
       "      <td>2.49204</td>\n",
       "    </tr>\n",
       "    <tr>\n",
       "      <th>3</th>\n",
       "      <td>2015.0</td>\n",
       "      <td>Norway</td>\n",
       "      <td>4.0</td>\n",
       "      <td>7.522</td>\n",
       "      <td>0.66973</td>\n",
       "      <td>0.34699</td>\n",
       "      <td>0.88521</td>\n",
       "      <td>0.36503</td>\n",
       "      <td>1.45900</td>\n",
       "      <td>1.401235</td>\n",
       "      <td>2.46531</td>\n",
       "    </tr>\n",
       "    <tr>\n",
       "      <th>4</th>\n",
       "      <td>2015.0</td>\n",
       "      <td>Canada</td>\n",
       "      <td>5.0</td>\n",
       "      <td>7.427</td>\n",
       "      <td>0.63297</td>\n",
       "      <td>0.45811</td>\n",
       "      <td>0.90563</td>\n",
       "      <td>0.32957</td>\n",
       "      <td>1.32629</td>\n",
       "      <td>1.340878</td>\n",
       "      <td>2.45176</td>\n",
       "    </tr>\n",
       "    <tr>\n",
       "      <th>...</th>\n",
       "      <td>...</td>\n",
       "      <td>...</td>\n",
       "      <td>...</td>\n",
       "      <td>...</td>\n",
       "      <td>...</td>\n",
       "      <td>...</td>\n",
       "      <td>...</td>\n",
       "      <td>...</td>\n",
       "      <td>...</td>\n",
       "      <td>...</td>\n",
       "      <td>...</td>\n",
       "    </tr>\n",
       "    <tr>\n",
       "      <th>1225</th>\n",
       "      <td>2022.0</td>\n",
       "      <td>Botswana</td>\n",
       "      <td>142.0</td>\n",
       "      <td>3.471</td>\n",
       "      <td>0.57100</td>\n",
       "      <td>0.01200</td>\n",
       "      <td>0.28000</td>\n",
       "      <td>0.10200</td>\n",
       "      <td>1.50300</td>\n",
       "      <td>0.815000</td>\n",
       "      <td>0.18700</td>\n",
       "    </tr>\n",
       "    <tr>\n",
       "      <th>1226</th>\n",
       "      <td>2022.0</td>\n",
       "      <td>Rwanda</td>\n",
       "      <td>143.0</td>\n",
       "      <td>3.268</td>\n",
       "      <td>0.62100</td>\n",
       "      <td>0.18700</td>\n",
       "      <td>0.46200</td>\n",
       "      <td>0.54400</td>\n",
       "      <td>0.78500</td>\n",
       "      <td>0.133000</td>\n",
       "      <td>0.53600</td>\n",
       "    </tr>\n",
       "    <tr>\n",
       "      <th>1227</th>\n",
       "      <td>2022.0</td>\n",
       "      <td>Zimbabwe</td>\n",
       "      <td>144.0</td>\n",
       "      <td>2.995</td>\n",
       "      <td>0.32900</td>\n",
       "      <td>0.10600</td>\n",
       "      <td>0.27000</td>\n",
       "      <td>0.10500</td>\n",
       "      <td>0.94700</td>\n",
       "      <td>0.690000</td>\n",
       "      <td>0.54800</td>\n",
       "    </tr>\n",
       "    <tr>\n",
       "      <th>1228</th>\n",
       "      <td>2022.0</td>\n",
       "      <td>Lebanon</td>\n",
       "      <td>145.0</td>\n",
       "      <td>2.955</td>\n",
       "      <td>0.10300</td>\n",
       "      <td>0.08200</td>\n",
       "      <td>0.63100</td>\n",
       "      <td>0.03400</td>\n",
       "      <td>1.39200</td>\n",
       "      <td>0.498000</td>\n",
       "      <td>0.21600</td>\n",
       "    </tr>\n",
       "    <tr>\n",
       "      <th>1229</th>\n",
       "      <td>2022.0</td>\n",
       "      <td>Afghanistan</td>\n",
       "      <td>146.0</td>\n",
       "      <td>2.404</td>\n",
       "      <td>0.00000</td>\n",
       "      <td>0.08900</td>\n",
       "      <td>0.28900</td>\n",
       "      <td>0.00500</td>\n",
       "      <td>0.75800</td>\n",
       "      <td>0.000000</td>\n",
       "      <td>1.26300</td>\n",
       "    </tr>\n",
       "  </tbody>\n",
       "</table>\n",
       "<p>1230 rows × 11 columns</p>\n",
       "</div>"
      ],
      "text/plain": [
       "        Year      Country  Happiness Rank  Happiness Score  Freedom  \\\n",
       "0     2015.0  Switzerland             1.0            7.587  0.66557   \n",
       "1     2015.0      Iceland             2.0            7.561  0.62877   \n",
       "2     2015.0      Denmark             3.0            7.527  0.64938   \n",
       "3     2015.0       Norway             4.0            7.522  0.66973   \n",
       "4     2015.0       Canada             5.0            7.427  0.63297   \n",
       "...      ...          ...             ...              ...      ...   \n",
       "1225  2022.0     Botswana           142.0            3.471  0.57100   \n",
       "1226  2022.0       Rwanda           143.0            3.268  0.62100   \n",
       "1227  2022.0     Zimbabwe           144.0            2.995  0.32900   \n",
       "1228  2022.0      Lebanon           145.0            2.955  0.10300   \n",
       "1229  2022.0  Afghanistan           146.0            2.404  0.00000   \n",
       "\n",
       "      Generosity  Healthy life expectancy  Perceptions of corruption  \\\n",
       "0        0.29678                  0.94143                    0.41978   \n",
       "1        0.43630                  0.94784                    0.14145   \n",
       "2        0.34139                  0.87464                    0.48357   \n",
       "3        0.34699                  0.88521                    0.36503   \n",
       "4        0.45811                  0.90563                    0.32957   \n",
       "...          ...                      ...                        ...   \n",
       "1225     0.01200                  0.28000                    0.10200   \n",
       "1226     0.18700                  0.46200                    0.54400   \n",
       "1227     0.10600                  0.27000                    0.10500   \n",
       "1228     0.08200                  0.63100                    0.03400   \n",
       "1229     0.08900                  0.28900                    0.00500   \n",
       "\n",
       "      GDP per capita  Social support  Dystopia Residual  \n",
       "0            1.39651        1.370481            2.51738  \n",
       "1            1.30232        1.461513            2.70201  \n",
       "2            1.32548        1.403490            2.49204  \n",
       "3            1.45900        1.401235            2.46531  \n",
       "4            1.32629        1.340878            2.45176  \n",
       "...              ...             ...                ...  \n",
       "1225         1.50300        0.815000            0.18700  \n",
       "1226         0.78500        0.133000            0.53600  \n",
       "1227         0.94700        0.690000            0.54800  \n",
       "1228         1.39200        0.498000            0.21600  \n",
       "1229         0.75800        0.000000            1.26300  \n",
       "\n",
       "[1230 rows x 11 columns]"
      ]
     },
     "execution_count": 33,
     "metadata": {},
     "output_type": "execute_result"
    }
   ],
   "source": [
    "df_imputed = df.copy()\n",
    "df_imputed['Social support'] = df_KNNimputer['Social support']\n",
    "df_imputed['Dystopia Residual'] = df_LRimputer['Dystopia Residual']\n",
    "\n",
    "df_imputed"
   ]
  },
  {
   "cell_type": "code",
   "execution_count": 34,
   "metadata": {},
   "outputs": [],
   "source": [
    "# Save imputed data\n",
    "df_imputed.to_csv('../data/final/WorldHappinees2015_2022.csv', index=False)"
   ]
  }
 ],
 "metadata": {
  "kernelspec": {
   "display_name": "Python 3",
   "language": "python",
   "name": "python3"
  },
  "language_info": {
   "codemirror_mode": {
    "name": "ipython",
    "version": 3
   },
   "file_extension": ".py",
   "mimetype": "text/x-python",
   "name": "python",
   "nbconvert_exporter": "python",
   "pygments_lexer": "ipython3",
   "version": "3.10.4 (main, Nov 29 2022, 20:00:25) [GCC 9.4.0]"
  },
  "orig_nbformat": 4,
  "vscode": {
   "interpreter": {
    "hash": "3ad933181bd8a04b432d3370b9dc3b0662ad032c4dfaa4e4f1596c548f763858"
   }
  }
 },
 "nbformat": 4,
 "nbformat_minor": 2
}
