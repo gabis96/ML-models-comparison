{
 "cells": [
  {
   "attachments": {},
   "cell_type": "markdown",
   "metadata": {},
   "source": [
    "# Regression models to predict Happiness Score"
   ]
  },
  {
   "cell_type": "code",
   "execution_count": 1,
   "metadata": {},
   "outputs": [],
   "source": [
    "import pandas as pd \n",
    "import numpy as np\n",
    "import seaborn as sns\n",
    "import matplotlib.pyplot as plt\n",
    "from seaborn import objects as so"
   ]
  },
  {
   "cell_type": "code",
   "execution_count": null,
   "metadata": {},
   "outputs": [
    {
     "data": {
      "text/html": [
       "<div>\n",
       "<style scoped>\n",
       "    .dataframe tbody tr th:only-of-type {\n",
       "        vertical-align: middle;\n",
       "    }\n",
       "\n",
       "    .dataframe tbody tr th {\n",
       "        vertical-align: top;\n",
       "    }\n",
       "\n",
       "    .dataframe thead th {\n",
       "        text-align: right;\n",
       "    }\n",
       "</style>\n",
       "<table border=\"1\" class=\"dataframe\">\n",
       "  <thead>\n",
       "    <tr style=\"text-align: right;\">\n",
       "      <th></th>\n",
       "      <th>Year</th>\n",
       "      <th>Country</th>\n",
       "      <th>Happiness Rank</th>\n",
       "      <th>Happiness Score</th>\n",
       "      <th>Freedom</th>\n",
       "      <th>Generosity</th>\n",
       "      <th>Healthy life expectancy</th>\n",
       "      <th>Perceptions of corruption</th>\n",
       "      <th>GDP per capita</th>\n",
       "      <th>Social support</th>\n",
       "      <th>Dystopia Residual</th>\n",
       "      <th>Region</th>\n",
       "    </tr>\n",
       "  </thead>\n",
       "  <tbody>\n",
       "    <tr>\n",
       "      <th>0</th>\n",
       "      <td>2015</td>\n",
       "      <td>Switzerland</td>\n",
       "      <td>1</td>\n",
       "      <td>7.587</td>\n",
       "      <td>0.66557</td>\n",
       "      <td>0.29678</td>\n",
       "      <td>0.94143</td>\n",
       "      <td>0.41978</td>\n",
       "      <td>1.39651</td>\n",
       "      <td>1.422681</td>\n",
       "      <td>2.51738</td>\n",
       "      <td>Western Europe</td>\n",
       "    </tr>\n",
       "    <tr>\n",
       "      <th>1</th>\n",
       "      <td>2015</td>\n",
       "      <td>Iceland</td>\n",
       "      <td>2</td>\n",
       "      <td>7.561</td>\n",
       "      <td>0.62877</td>\n",
       "      <td>0.43630</td>\n",
       "      <td>0.94784</td>\n",
       "      <td>0.14145</td>\n",
       "      <td>1.30232</td>\n",
       "      <td>1.461513</td>\n",
       "      <td>2.70201</td>\n",
       "      <td>Western Europe</td>\n",
       "    </tr>\n",
       "    <tr>\n",
       "      <th>2</th>\n",
       "      <td>2015</td>\n",
       "      <td>Denmark</td>\n",
       "      <td>3</td>\n",
       "      <td>7.527</td>\n",
       "      <td>0.64938</td>\n",
       "      <td>0.34139</td>\n",
       "      <td>0.87464</td>\n",
       "      <td>0.48357</td>\n",
       "      <td>1.32548</td>\n",
       "      <td>1.403490</td>\n",
       "      <td>2.49204</td>\n",
       "      <td>Western Europe</td>\n",
       "    </tr>\n",
       "    <tr>\n",
       "      <th>3</th>\n",
       "      <td>2015</td>\n",
       "      <td>Norway</td>\n",
       "      <td>4</td>\n",
       "      <td>7.522</td>\n",
       "      <td>0.66973</td>\n",
       "      <td>0.34699</td>\n",
       "      <td>0.88521</td>\n",
       "      <td>0.36503</td>\n",
       "      <td>1.45900</td>\n",
       "      <td>1.401235</td>\n",
       "      <td>2.46531</td>\n",
       "      <td>Western Europe</td>\n",
       "    </tr>\n",
       "    <tr>\n",
       "      <th>4</th>\n",
       "      <td>2015</td>\n",
       "      <td>Canada</td>\n",
       "      <td>5</td>\n",
       "      <td>7.427</td>\n",
       "      <td>0.63297</td>\n",
       "      <td>0.45811</td>\n",
       "      <td>0.90563</td>\n",
       "      <td>0.32957</td>\n",
       "      <td>1.32629</td>\n",
       "      <td>1.340878</td>\n",
       "      <td>2.45176</td>\n",
       "      <td>North America</td>\n",
       "    </tr>\n",
       "    <tr>\n",
       "      <th>...</th>\n",
       "      <td>...</td>\n",
       "      <td>...</td>\n",
       "      <td>...</td>\n",
       "      <td>...</td>\n",
       "      <td>...</td>\n",
       "      <td>...</td>\n",
       "      <td>...</td>\n",
       "      <td>...</td>\n",
       "      <td>...</td>\n",
       "      <td>...</td>\n",
       "      <td>...</td>\n",
       "      <td>...</td>\n",
       "    </tr>\n",
       "    <tr>\n",
       "      <th>1225</th>\n",
       "      <td>2022</td>\n",
       "      <td>Botswana</td>\n",
       "      <td>142</td>\n",
       "      <td>3.471</td>\n",
       "      <td>0.57100</td>\n",
       "      <td>0.01200</td>\n",
       "      <td>0.28000</td>\n",
       "      <td>0.10200</td>\n",
       "      <td>1.50300</td>\n",
       "      <td>0.815000</td>\n",
       "      <td>0.18700</td>\n",
       "      <td>Sub-Saharan Africa</td>\n",
       "    </tr>\n",
       "    <tr>\n",
       "      <th>1226</th>\n",
       "      <td>2022</td>\n",
       "      <td>Rwanda</td>\n",
       "      <td>143</td>\n",
       "      <td>3.268</td>\n",
       "      <td>0.62100</td>\n",
       "      <td>0.18700</td>\n",
       "      <td>0.46200</td>\n",
       "      <td>0.54400</td>\n",
       "      <td>0.78500</td>\n",
       "      <td>0.133000</td>\n",
       "      <td>0.53600</td>\n",
       "      <td>Sub-Saharan Africa</td>\n",
       "    </tr>\n",
       "    <tr>\n",
       "      <th>1227</th>\n",
       "      <td>2022</td>\n",
       "      <td>Zimbabwe</td>\n",
       "      <td>144</td>\n",
       "      <td>2.995</td>\n",
       "      <td>0.32900</td>\n",
       "      <td>0.10600</td>\n",
       "      <td>0.27000</td>\n",
       "      <td>0.10500</td>\n",
       "      <td>0.94700</td>\n",
       "      <td>0.690000</td>\n",
       "      <td>0.54800</td>\n",
       "      <td>Sub-Saharan Africa</td>\n",
       "    </tr>\n",
       "    <tr>\n",
       "      <th>1228</th>\n",
       "      <td>2022</td>\n",
       "      <td>Lebanon</td>\n",
       "      <td>145</td>\n",
       "      <td>2.955</td>\n",
       "      <td>0.10300</td>\n",
       "      <td>0.08200</td>\n",
       "      <td>0.63100</td>\n",
       "      <td>0.03400</td>\n",
       "      <td>1.39200</td>\n",
       "      <td>0.498000</td>\n",
       "      <td>0.21600</td>\n",
       "      <td>Middle East and Northern Africa</td>\n",
       "    </tr>\n",
       "    <tr>\n",
       "      <th>1229</th>\n",
       "      <td>2022</td>\n",
       "      <td>Afghanistan</td>\n",
       "      <td>146</td>\n",
       "      <td>2.404</td>\n",
       "      <td>0.00000</td>\n",
       "      <td>0.08900</td>\n",
       "      <td>0.28900</td>\n",
       "      <td>0.00500</td>\n",
       "      <td>0.75800</td>\n",
       "      <td>0.000000</td>\n",
       "      <td>1.26300</td>\n",
       "      <td>Southern Asia</td>\n",
       "    </tr>\n",
       "  </tbody>\n",
       "</table>\n",
       "<p>1230 rows × 12 columns</p>\n",
       "</div>"
      ],
      "text/plain": [
       "      Year      Country  Happiness Rank  Happiness Score  Freedom  Generosity  \\\n",
       "0     2015  Switzerland               1            7.587  0.66557     0.29678   \n",
       "1     2015      Iceland               2            7.561  0.62877     0.43630   \n",
       "2     2015      Denmark               3            7.527  0.64938     0.34139   \n",
       "3     2015       Norway               4            7.522  0.66973     0.34699   \n",
       "4     2015       Canada               5            7.427  0.63297     0.45811   \n",
       "...    ...          ...             ...              ...      ...         ...   \n",
       "1225  2022     Botswana             142            3.471  0.57100     0.01200   \n",
       "1226  2022       Rwanda             143            3.268  0.62100     0.18700   \n",
       "1227  2022     Zimbabwe             144            2.995  0.32900     0.10600   \n",
       "1228  2022      Lebanon             145            2.955  0.10300     0.08200   \n",
       "1229  2022  Afghanistan             146            2.404  0.00000     0.08900   \n",
       "\n",
       "      Healthy life expectancy  Perceptions of corruption  GDP per capita  \\\n",
       "0                     0.94143                    0.41978         1.39651   \n",
       "1                     0.94784                    0.14145         1.30232   \n",
       "2                     0.87464                    0.48357         1.32548   \n",
       "3                     0.88521                    0.36503         1.45900   \n",
       "4                     0.90563                    0.32957         1.32629   \n",
       "...                       ...                        ...             ...   \n",
       "1225                  0.28000                    0.10200         1.50300   \n",
       "1226                  0.46200                    0.54400         0.78500   \n",
       "1227                  0.27000                    0.10500         0.94700   \n",
       "1228                  0.63100                    0.03400         1.39200   \n",
       "1229                  0.28900                    0.00500         0.75800   \n",
       "\n",
       "      Social support  Dystopia Residual                           Region  \n",
       "0           1.422681            2.51738                   Western Europe  \n",
       "1           1.461513            2.70201                   Western Europe  \n",
       "2           1.403490            2.49204                   Western Europe  \n",
       "3           1.401235            2.46531                   Western Europe  \n",
       "4           1.340878            2.45176                    North America  \n",
       "...              ...                ...                              ...  \n",
       "1225        0.815000            0.18700               Sub-Saharan Africa  \n",
       "1226        0.133000            0.53600               Sub-Saharan Africa  \n",
       "1227        0.690000            0.54800               Sub-Saharan Africa  \n",
       "1228        0.498000            0.21600  Middle East and Northern Africa  \n",
       "1229        0.000000            1.26300                    Southern Asia  \n",
       "\n",
       "[1230 rows x 12 columns]"
      ]
     },
     "execution_count": 2,
     "metadata": {},
     "output_type": "execute_result"
    }
   ],
   "source": [
    "df = pd.read_csv('../data/processed/WorldHappiness2015_2022.csv')\n",
    "df"
   ]
  },
  {
   "cell_type": "code",
   "execution_count": null,
   "metadata": {},
   "outputs": [],
   "source": [
    "df['Country'] = df['Country'].astype('category')\n",
    "df['Region'] = df['Region'].astype('category')"
   ]
  },
  {
   "cell_type": "code",
   "execution_count": null,
   "metadata": {},
   "outputs": [],
   "source": [
    "from sklearn.model_selection import train_test_split\n",
    "\n",
    "# Cross Validation for Happiness Score\n",
    "X = df.drop('Happiness Score', axis=1)\n",
    "y = df['Happiness Score']\n",
    "X_train, X_test, y_train, y_test = train_test_split(X, y, test_size=0.3, random_state=42)"
   ]
  },
  {
   "attachments": {},
   "cell_type": "markdown",
   "metadata": {},
   "source": [
    "### Metrics\n",
    "\n",
    "Common evaluation metrics for regression problems:\n",
    "\n",
    "- Mean Absolute Error (MAE) is the mean of the absolute value of the errors: 1n∑i=1n|yi−y^i|\n",
    "- Mean Squared Error (MSE) is the mean of the squared errors: 1n∑i=1n(yi−y^i)^2\n",
    "- Root Mean Squared Error (RMSE) is the square root of the mean of the squared errors: 1n∑i=1n(yi−y^i)^2\n",
    " \n",
    "Comparing these metrics:\n",
    "\n",
    "- MAE is the easiest to understand, because it's the average error.\n",
    "- MSE is more popular than MAE, because MSE \"punishes\" larger errors, which tends to be useful in the real world.\n",
    "- RMSE is even more popular than MSE, because RMSE is interpretable in the \"y\" units.\n",
    "\n",
    "All of these are loss functions, because we want to minimize them.\n",
    "\n",
    "Cross Validation"
   ]
  },
  {
   "cell_type": "code",
   "execution_count": null,
   "metadata": {},
   "outputs": [],
   "source": [
    "from sklearn import metrics\n",
    "from sklearn.model_selection import cross_val_score\n",
    "import numpy as np\n",
    "\n",
    "def evaluate(model, true, predicted):\n",
    "    return {\n",
    "        'mae': metrics.mean_absolute_error(true, predicted), \n",
    "        'mse': metrics.mean_squared_error(true, predicted), \n",
    "        'rmse': np.sqrt(metrics.mean_squared_error(true, predicted)), \n",
    "        'r2_square': metrics.r2_score(true, predicted),\n",
    "        'cross_val' : cross_val_score(model, X, y, cv=10).mean()\n",
    "    }"
   ]
  },
  {
   "cell_type": "code",
   "execution_count": null,
   "metadata": {},
   "outputs": [],
   "source": [
    "# Graph\n",
    "def graph(real, predicted):\n",
    "    X = list(range(0, len(real)))\n",
    "    df1 = pd.DataFrame(data={\n",
    "        \"X\": X,\n",
    "        \"y\":real,\n",
    "        \"origin\":'real'\n",
    "    })\n",
    "    df2 = pd.DataFrame(data={\n",
    "        \"X\": X,\n",
    "        \"y\":predicted,\n",
    "        \"origin\":'predicted'\n",
    "    })\n",
    "\n",
    "    data = pd.concat([df1, df2]).reset_index(drop=True)\n",
    "\n",
    "    return (\n",
    "        so.Plot(data=data, x='X', y='y', color='origin', marker=\"origin\")\n",
    "        .add(so.Dots())\n",
    "        .scale(\n",
    "            color=['#87b7e0', '#cf604a'],\n",
    "            marker=so.Nominal([\"o\", \"x\"]),\n",
    "        )\n",
    "    )"
   ]
  },
  {
   "attachments": {},
   "cell_type": "markdown",
   "metadata": {},
   "source": [
    "### Transformers"
   ]
  },
  {
   "cell_type": "code",
   "execution_count": null,
   "metadata": {},
   "outputs": [],
   "source": [
    "from sklearn.compose import ColumnTransformer\n",
    "from sklearn.pipeline import Pipeline\n",
    "from sklearn.preprocessing import StandardScaler, LabelEncoder, OneHotEncoder\n",
    "from sklearn.compose import make_column_selector as selector\n",
    "\n",
    "numeric_transformer = StandardScaler()\n",
    "categorical_transformer = OneHotEncoder(handle_unknown=\"ignore\")\n",
    "\n",
    "preprocessor = ColumnTransformer(\n",
    "    transformers=[\n",
    "        (\"num\", numeric_transformer, selector(dtype_exclude=\"category\")),\n",
    "        (\"cat\", categorical_transformer, selector(dtype_include=\"category\")),\n",
    "    ]\n",
    ")\n",
    "\n",
    "preprocessor_cat = ColumnTransformer(\n",
    "    transformers=[\n",
    "        (\"cat\", categorical_transformer, selector(dtype_include=\"category\")),\n",
    "    ]\n",
    ")"
   ]
  },
  {
   "attachments": {},
   "cell_type": "markdown",
   "metadata": {},
   "source": [
    "### Linear Regression"
   ]
  },
  {
   "cell_type": "code",
   "execution_count": null,
   "metadata": {},
   "outputs": [
    {
     "data": {
      "text/plain": [
       "{'mae': 0.07637718945306791,\n",
       " 'mse': 0.011255939625523398,\n",
       " 'rmse': 0.10609401314647023,\n",
       " 'r2_square': 0.9906895998384289,\n",
       " 'cross_val': 0.9875823927069106}"
      ]
     },
     "execution_count": 15,
     "metadata": {},
     "output_type": "execute_result"
    }
   ],
   "source": [
    "from sklearn.linear_model import LinearRegression\n",
    "\n",
    "linear_regression = Pipeline(\n",
    "    steps=[(\"preprocessor\", preprocessor), (\"regressor\", LinearRegression())]\n",
    ")\n",
    "\n",
    "linear_regression.fit(X_train, y_train)\n",
    "# linear_regression.score(X_test, y_test)\n",
    "\n",
    "# evaluate\n",
    "test_pred = linear_regression.predict(X_test)\n",
    "evaluate(linear_regression, y_test, test_pred)"
   ]
  },
  {
   "cell_type": "code",
   "execution_count": null,
   "metadata": {},
   "outputs": [
    {
     "data": {
      "image/png": "[encoded data removed]",
      "text/plain": [
       "<seaborn._core.plot.Plot at 0x7fd08d49b7c0>"
      ]
     },
     "execution_count": 16,
     "metadata": {
      "image/png": {
       "height": 378.25,
       "width": 509.15
      }
     },
     "output_type": "execute_result"
    }
   ],
   "source": [
    "(\n",
    "    so.Plot(x=y_test, y=test_pred)\n",
    "    .add(so.Dot())\n",
    ")"
   ]
  },
  {
   "attachments": {},
   "cell_type": "markdown",
   "metadata": {},
   "source": [
    "### Ridge Regression"
   ]
  },
  {
   "cell_type": "code",
   "execution_count": null,
   "metadata": {},
   "outputs": [
    {
     "data": {
      "text/plain": [
       "{'mae': 0.6182467889593949,\n",
       " 'mse': 0.5909679461199013,\n",
       " 'rmse': 0.7687443958299152,\n",
       " 'r2_square': 0.5111782539627628,\n",
       " 'cross_val': 0.5047324180749324}"
      ]
     },
     "execution_count": 17,
     "metadata": {},
     "output_type": "execute_result"
    }
   ],
   "source": [
    "from sklearn.linear_model import Ridge\n",
    "\n",
    "ridge_regression = Pipeline(\n",
    "    steps=[(\"preprocessor\", preprocessor_cat), (\"regressor\", Ridge(alpha=100, solver='auto', tol=0.0001, random_state=42))]\n",
    ")\n",
    "\n",
    "ridge_regression.fit(X_train, y_train)\n",
    "# ridge_regression.score(X_test, y_test)\n",
    "\n",
    "# evaluate\n",
    "test_pred = ridge_regression.predict(X_test)\n",
    "evaluate(ridge_regression, y_test, test_pred)"
   ]
  },
  {
   "attachments": {},
   "cell_type": "markdown",
   "metadata": {},
   "source": [
    "### Lasso Regression"
   ]
  },
  {
   "cell_type": "code",
   "execution_count": null,
   "metadata": {},
   "outputs": [
    {
     "data": {
      "text/plain": [
       "{'mae': 0.847885379489352,\n",
       " 'mse': 1.0243305705635661,\n",
       " 'rmse': 1.0120921749344602,\n",
       " 'r2_square': 0.15272044565237408,\n",
       " 'cross_val': 0.11557259874917176}"
      ]
     },
     "execution_count": 18,
     "metadata": {},
     "output_type": "execute_result"
    }
   ],
   "source": [
    "from sklearn.linear_model import Lasso\n",
    "\n",
    "lasso_regression = Pipeline(\n",
    "    steps=[(\"preprocessor\", preprocessor_cat), (\"regressor\", Lasso(alpha=0.1, precompute=True, positive=True, selection='random', random_state=42))]\n",
    "    )\n",
    "\n",
    "lasso_regression.fit(X_train, y_train)\n",
    "# lasso_regression.score(X_test, y_test)\n",
    "\n",
    "# evaluate\n",
    "test_pred = lasso_regression.predict(X_test)\n",
    "evaluate(lasso_regression, y_test, test_pred)"
   ]
  },
  {
   "attachments": {},
   "cell_type": "markdown",
   "metadata": {},
   "source": [
    "### Polynomial Regression"
   ]
  },
  {
   "cell_type": "code",
   "execution_count": null,
   "metadata": {},
   "outputs": [],
   "source": []
  },
  {
   "attachments": {},
   "cell_type": "markdown",
   "metadata": {},
   "source": [
    "### Stochastic Gradient Descent"
   ]
  },
  {
   "cell_type": "code",
   "execution_count": null,
   "metadata": {},
   "outputs": [
    {
     "data": {
      "text/plain": [
       "{'mae': 1.6828775172814814,\n",
       " 'mse': 4.374387431157172,\n",
       " 'rmse': 2.0915036292479083,\n",
       " 'r2_square': -2.6182938786797667,\n",
       " 'cross_val': -2.5218177800362698}"
      ]
     },
     "execution_count": 19,
     "metadata": {},
     "output_type": "execute_result"
    }
   ],
   "source": [
    "from sklearn.linear_model import SGDRegressor\n",
    "\n",
    "sgrad_regression = Pipeline(\n",
    "    steps=[(\"preprocessor\", preprocessor_cat), (\"regressor\", SGDRegressor(n_iter_no_change=250, penalty=None, eta0=0.0001, max_iter=100000))]\n",
    "    )\n",
    "\n",
    "sgrad_regression.fit(X_train, y_train)\n",
    "# sgrad_regression.score(X_test, y_test)\n",
    "\n",
    "# evaluate\n",
    "test_pred = sgrad_regression.predict(X_test)\n",
    "evaluate(sgrad_regression, y_test, test_pred)"
   ]
  },
  {
   "attachments": {},
   "cell_type": "markdown",
   "metadata": {},
   "source": [
    "### SVM"
   ]
  },
  {
   "cell_type": "code",
   "execution_count": null,
   "metadata": {},
   "outputs": [
    {
     "data": {
      "text/plain": [
       "{'mae': 0.2326890317125201,\n",
       " 'mse': 0.10194783871078288,\n",
       " 'rmse': 0.3192927163447091,\n",
       " 'r2_square': 0.9156733950622482,\n",
       " 'cross_val': 0.8816521268213495}"
      ]
     },
     "execution_count": 20,
     "metadata": {},
     "output_type": "execute_result"
    }
   ],
   "source": [
    "from sklearn.svm import SVR\n",
    "\n",
    "svm_regression = Pipeline(\n",
    "    steps=[(\"preprocessor\", preprocessor_cat), (\"regressor\", SVR(kernel='rbf', C=1000000, epsilon=0.001))]\n",
    "    )\n",
    "\n",
    "svm_regression.fit(X_train, y_train)\n",
    "# svm_regression.score(X_test, y_test)\n",
    "\n",
    "# evaluate\n",
    "test_pred = svm_regression.predict(X_test)\n",
    "evaluate(svm_regression, y_test, test_pred)"
   ]
  },
  {
   "attachments": {},
   "cell_type": "markdown",
   "metadata": {},
   "source": [
    "### Regression Tree"
   ]
  },
  {
   "cell_type": "code",
   "execution_count": null,
   "metadata": {},
   "outputs": [
    {
     "data": {
      "text/plain": [
       "{'mae': 0.6218486881531943,\n",
       " 'mse': 0.5928799324726383,\n",
       " 'rmse': 0.769986969027813,\n",
       " 'r2_square': 0.5095967460087687,\n",
       " 'cross_val': 0.4433258398208387}"
      ]
     },
     "execution_count": 25,
     "metadata": {},
     "output_type": "execute_result"
    }
   ],
   "source": [
    "from sklearn.tree import DecisionTreeRegressor\n",
    "\n",
    "regression_tree = Pipeline(\n",
    "    steps=[(\"preprocessor\", preprocessor_cat), (\"regressor\", DecisionTreeRegressor(max_depth=2))]\n",
    "    )\n",
    "\n",
    "regression_tree.fit(X_train, y_train)\n",
    "# regression_tree.score(X_test, y_test)\n",
    "\n",
    "# evaluate\n",
    "test_pred = regression_tree.predict(X_test)\n",
    "evaluate(regression_tree, y_test, test_pred)"
   ]
  },
  {
   "attachments": {},
   "cell_type": "markdown",
   "metadata": {},
   "source": [
    "### Random Forest"
   ]
  },
  {
   "cell_type": "code",
   "execution_count": null,
   "metadata": {},
   "outputs": [
    {
     "data": {
      "text/plain": [
       "{'mae': 0.21822297025776097,\n",
       " 'mse': 0.0861011423179905,\n",
       " 'rmse': 0.2934299615206165,\n",
       " 'r2_square': 0.9287810599542373,\n",
       " 'cross_val': 0.9012185026023273}"
      ]
     },
     "execution_count": 21,
     "metadata": {},
     "output_type": "execute_result"
    }
   ],
   "source": [
    "from sklearn.ensemble import RandomForestRegressor\n",
    "\n",
    "randforest_regression = Pipeline(\n",
    "    steps=[(\"preprocessor\", preprocessor_cat), (\"regressor\", RandomForestRegressor(n_estimators=1000))]\n",
    "    )\n",
    "\n",
    "randforest_regression.fit(X_train, y_train)\n",
    "# randforest_regression.score(X_test, y_test)\n",
    "\n",
    "# evaluate\n",
    "test_pred = randforest_regression.predict(X_test)\n",
    "evaluate(randforest_regression, y_test, test_pred)"
   ]
  },
  {
   "attachments": {},
   "cell_type": "markdown",
   "metadata": {},
   "source": [
    "### Neural Networks"
   ]
  },
  {
   "cell_type": "code",
   "execution_count": null,
   "metadata": {},
   "outputs": [
    {
     "name": "stderr",
     "output_type": "stream",
     "text": [
      "2023-01-17 17:52:57.288289: I tensorflow/core/platform/cpu_feature_guard.cc:193] This TensorFlow binary is optimized with oneAPI Deep Neural Network Library (oneDNN) to use the following CPU instructions in performance-critical operations:  AVX2 AVX512F FMA\n",
      "To enable them in other operations, rebuild TensorFlow with the appropriate compiler flags.\n",
      "2023-01-17 17:52:58.556787: W tensorflow/compiler/xla/stream_executor/platform/default/dso_loader.cc:64] Could not load dynamic library 'libcudart.so.11.0'; dlerror: libcudart.so.11.0: cannot open shared object file: No such file or directory\n",
      "2023-01-17 17:52:58.556815: I tensorflow/compiler/xla/stream_executor/cuda/cudart_stub.cc:29] Ignore above cudart dlerror if you do not have a GPU set up on your machine.\n",
      "2023-01-17 17:53:01.575775: W tensorflow/compiler/xla/stream_executor/platform/default/dso_loader.cc:64] Could not load dynamic library 'libnvinfer.so.7'; dlerror: libnvinfer.so.7: cannot open shared object file: No such file or directory\n",
      "2023-01-17 17:53:01.576362: W tensorflow/compiler/xla/stream_executor/platform/default/dso_loader.cc:64] Could not load dynamic library 'libnvinfer_plugin.so.7'; dlerror: libnvinfer_plugin.so.7: cannot open shared object file: No such file or directory\n",
      "2023-01-17 17:53:01.576381: W tensorflow/compiler/tf2tensorrt/utils/py_utils.cc:38] TF-TRT Warning: Cannot dlopen some TensorRT libraries. If you would like to use Nvidia GPU with TensorRT, please make sure the missing libraries mentioned above are installed properly.\n",
      "2023-01-17 17:53:05.107864: W tensorflow/compiler/xla/stream_executor/platform/default/dso_loader.cc:64] Could not load dynamic library 'libcuda.so.1'; dlerror: libcuda.so.1: cannot open shared object file: No such file or directory\n",
      "2023-01-17 17:53:05.117786: W tensorflow/compiler/xla/stream_executor/cuda/cuda_driver.cc:265] failed call to cuInit: UNKNOWN ERROR (303)\n",
      "2023-01-17 17:53:05.117852: I tensorflow/compiler/xla/stream_executor/cuda/cuda_diagnostics.cc:156] kernel driver does not appear to be running on this host (codespaces-b054af): /proc/driver/nvidia/version does not exist\n",
      "2023-01-17 17:53:05.141838: I tensorflow/core/platform/cpu_feature_guard.cc:193] This TensorFlow binary is optimized with oneAPI Deep Neural Network Library (oneDNN) to use the following CPU instructions in performance-critical operations:  AVX2 AVX512F FMA\n",
      "To enable them in other operations, rebuild TensorFlow with the appropriate compiler flags.\n"
     ]
    },
    {
     "name": "stdout",
     "output_type": "stream",
     "text": [
      "Epoch 1/100\n",
      "861/861 [==============================] - 4s 2ms/step - loss: 139.2495 - val_loss: 9.8305\n",
      "Epoch 2/100\n",
      "861/861 [==============================] - 2s 2ms/step - loss: 107.6886 - val_loss: 3.1783\n",
      "Epoch 3/100\n",
      "861/861 [==============================] - 2s 2ms/step - loss: 86.8536 - val_loss: 5.6175\n",
      "Epoch 4/100\n",
      "861/861 [==============================] - 2s 2ms/step - loss: 70.8128 - val_loss: 5.2591\n",
      "Epoch 5/100\n",
      "861/861 [==============================] - 2s 2ms/step - loss: 60.6393 - val_loss: 1.0622\n",
      "Epoch 6/100\n",
      "861/861 [==============================] - 2s 2ms/step - loss: 55.0105 - val_loss: 0.9743\n",
      "Epoch 7/100\n",
      "861/861 [==============================] - 2s 2ms/step - loss: 42.3932 - val_loss: 0.7475\n",
      "Epoch 8/100\n",
      "861/861 [==============================] - 2s 3ms/step - loss: 34.4256 - val_loss: 0.5322\n",
      "Epoch 9/100\n",
      "861/861 [==============================] - 2s 3ms/step - loss: 28.7299 - val_loss: 1.0284\n",
      "Epoch 10/100\n",
      "861/861 [==============================] - 2s 2ms/step - loss: 24.7470 - val_loss: 0.4354\n",
      "Epoch 11/100\n",
      "861/861 [==============================] - 2s 3ms/step - loss: 19.4837 - val_loss: 0.2965\n",
      "Epoch 12/100\n",
      "861/861 [==============================] - 2s 2ms/step - loss: 17.1930 - val_loss: 0.7337\n",
      "Epoch 13/100\n",
      "861/861 [==============================] - 2s 3ms/step - loss: 14.6643 - val_loss: 0.1844\n",
      "Epoch 14/100\n",
      "861/861 [==============================] - 3s 4ms/step - loss: 11.6555 - val_loss: 0.7776\n",
      "Epoch 15/100\n",
      "861/861 [==============================] - 3s 3ms/step - loss: 10.5416 - val_loss: 0.2263\n",
      "Epoch 16/100\n",
      "861/861 [==============================] - 2s 3ms/step - loss: 8.8246 - val_loss: 0.6096\n",
      "Epoch 17/100\n",
      "861/861 [==============================] - 2s 2ms/step - loss: 7.2775 - val_loss: 0.1407\n",
      "Epoch 18/100\n",
      "861/861 [==============================] - 2s 3ms/step - loss: 6.3857 - val_loss: 0.4175\n",
      "Epoch 19/100\n",
      "861/861 [==============================] - 2s 2ms/step - loss: 5.1180 - val_loss: 0.0948\n",
      "Epoch 20/100\n",
      "861/861 [==============================] - 2s 3ms/step - loss: 4.3416 - val_loss: 0.1128\n",
      "Epoch 21/100\n",
      "861/861 [==============================] - 2s 2ms/step - loss: 3.6465 - val_loss: 0.2361\n",
      "Epoch 22/100\n",
      "861/861 [==============================] - 2s 2ms/step - loss: 3.0103 - val_loss: 0.0641\n",
      "Epoch 23/100\n",
      "861/861 [==============================] - 2s 2ms/step - loss: 2.7300 - val_loss: 0.0715\n",
      "Epoch 24/100\n",
      "861/861 [==============================] - 2s 2ms/step - loss: 2.2206 - val_loss: 0.5554\n",
      "Epoch 25/100\n",
      "861/861 [==============================] - 2s 2ms/step - loss: 1.9985 - val_loss: 0.0779\n",
      "Epoch 26/100\n",
      "861/861 [==============================] - 2s 2ms/step - loss: 1.6483 - val_loss: 0.1254\n",
      "Epoch 27/100\n",
      "861/861 [==============================] - 2s 2ms/step - loss: 1.3981 - val_loss: 0.0542\n",
      "Epoch 28/100\n",
      "861/861 [==============================] - 2s 2ms/step - loss: 1.2310 - val_loss: 0.1870\n",
      "Epoch 29/100\n",
      "861/861 [==============================] - 2s 3ms/step - loss: 1.0378 - val_loss: 0.4449\n",
      "Epoch 30/100\n",
      "861/861 [==============================] - 2s 3ms/step - loss: 0.8403 - val_loss: 0.0525\n",
      "Epoch 31/100\n",
      "861/861 [==============================] - 3s 4ms/step - loss: 0.7773 - val_loss: 0.1324\n",
      "Epoch 32/100\n",
      "861/861 [==============================] - 2s 2ms/step - loss: 0.6419 - val_loss: 0.0611\n",
      "Epoch 33/100\n",
      "861/861 [==============================] - 2s 2ms/step - loss: 0.5233 - val_loss: 0.0454\n",
      "Epoch 34/100\n",
      "861/861 [==============================] - 2s 2ms/step - loss: 0.4645 - val_loss: 0.0674\n",
      "Epoch 35/100\n",
      "861/861 [==============================] - 2s 2ms/step - loss: 0.4595 - val_loss: 0.1280\n",
      "Epoch 36/100\n",
      "861/861 [==============================] - 2s 2ms/step - loss: 0.3593 - val_loss: 0.0440\n",
      "Epoch 37/100\n",
      "861/861 [==============================] - 2s 2ms/step - loss: 0.3071 - val_loss: 0.0406\n",
      "Epoch 38/100\n",
      "861/861 [==============================] - 2s 2ms/step - loss: 0.2898 - val_loss: 0.2355\n",
      "Epoch 39/100\n",
      "861/861 [==============================] - 2s 2ms/step - loss: 0.2511 - val_loss: 0.0396\n",
      "Epoch 40/100\n",
      "861/861 [==============================] - 2s 2ms/step - loss: 0.2192 - val_loss: 0.0295\n",
      "Epoch 41/100\n",
      "861/861 [==============================] - 2s 2ms/step - loss: 0.2010 - val_loss: 0.0729\n",
      "Epoch 42/100\n",
      "861/861 [==============================] - 2s 2ms/step - loss: 0.1817 - val_loss: 0.0923\n",
      "Epoch 43/100\n",
      "861/861 [==============================] - 2s 2ms/step - loss: 0.1726 - val_loss: 0.0403\n",
      "Epoch 44/100\n",
      "861/861 [==============================] - 2s 2ms/step - loss: 0.1656 - val_loss: 0.0306\n",
      "Epoch 45/100\n",
      "861/861 [==============================] - 2s 2ms/step - loss: 0.1461 - val_loss: 0.0344\n",
      "Epoch 46/100\n",
      "861/861 [==============================] - 2s 2ms/step - loss: 0.1365 - val_loss: 0.0278\n",
      "Epoch 47/100\n",
      "861/861 [==============================] - 2s 2ms/step - loss: 0.1354 - val_loss: 0.0395\n",
      "Epoch 48/100\n",
      "861/861 [==============================] - 2s 2ms/step - loss: 0.1291 - val_loss: 0.0260\n",
      "Epoch 49/100\n",
      "861/861 [==============================] - 2s 2ms/step - loss: 0.1203 - val_loss: 0.0209\n",
      "Epoch 50/100\n",
      "861/861 [==============================] - 2s 2ms/step - loss: 0.1037 - val_loss: 0.0367\n",
      "Epoch 51/100\n",
      "861/861 [==============================] - 2s 3ms/step - loss: 0.1052 - val_loss: 0.0320\n",
      "Epoch 52/100\n",
      "861/861 [==============================] - 2s 2ms/step - loss: 0.1033 - val_loss: 0.0496\n",
      "Epoch 53/100\n",
      "861/861 [==============================] - 2s 2ms/step - loss: 0.1084 - val_loss: 0.0646\n",
      "Epoch 54/100\n",
      "861/861 [==============================] - 2s 2ms/step - loss: 0.0919 - val_loss: 0.0291\n",
      "Epoch 55/100\n",
      "861/861 [==============================] - 2s 2ms/step - loss: 0.1009 - val_loss: 0.0311\n",
      "Epoch 56/100\n",
      "861/861 [==============================] - 2s 2ms/step - loss: 0.1015 - val_loss: 0.0175\n",
      "Epoch 57/100\n",
      "861/861 [==============================] - 2s 2ms/step - loss: 0.0992 - val_loss: 0.0451\n",
      "Epoch 58/100\n",
      "861/861 [==============================] - 2s 2ms/step - loss: 0.0933 - val_loss: 0.0307\n",
      "Epoch 59/100\n",
      "861/861 [==============================] - 2s 2ms/step - loss: 0.0919 - val_loss: 0.0345\n",
      "Epoch 60/100\n",
      "861/861 [==============================] - 2s 2ms/step - loss: 0.0927 - val_loss: 0.0322\n",
      "Epoch 61/100\n",
      "861/861 [==============================] - 2s 2ms/step - loss: 0.0920 - val_loss: 0.0255\n",
      "Epoch 62/100\n",
      "861/861 [==============================] - 2s 2ms/step - loss: 0.1019 - val_loss: 0.0246\n",
      "Epoch 63/100\n",
      "861/861 [==============================] - 2s 2ms/step - loss: 0.0943 - val_loss: 0.0245\n",
      "Epoch 64/100\n",
      "861/861 [==============================] - 2s 2ms/step - loss: 0.0902 - val_loss: 0.0229\n",
      "Epoch 65/100\n",
      "861/861 [==============================] - 2s 2ms/step - loss: 0.0833 - val_loss: 0.0249\n",
      "Epoch 66/100\n",
      "861/861 [==============================] - 2s 2ms/step - loss: 0.0923 - val_loss: 0.0172\n",
      "Epoch 67/100\n",
      "861/861 [==============================] - 2s 2ms/step - loss: 0.0870 - val_loss: 0.0197\n",
      "Epoch 68/100\n",
      "861/861 [==============================] - 2s 3ms/step - loss: 0.0906 - val_loss: 0.0170\n",
      "Epoch 69/100\n",
      "861/861 [==============================] - 2s 2ms/step - loss: 0.0843 - val_loss: 0.0161\n",
      "Epoch 70/100\n",
      "861/861 [==============================] - 3s 4ms/step - loss: 0.0805 - val_loss: 0.0229\n",
      "Epoch 71/100\n",
      "861/861 [==============================] - 2s 3ms/step - loss: 0.0790 - val_loss: 0.0658\n",
      "Epoch 72/100\n",
      "861/861 [==============================] - 2s 2ms/step - loss: 0.0812 - val_loss: 0.0167\n",
      "Epoch 73/100\n",
      "861/861 [==============================] - 2s 2ms/step - loss: 0.0797 - val_loss: 0.0320\n",
      "Epoch 74/100\n",
      "861/861 [==============================] - 2s 2ms/step - loss: 0.0852 - val_loss: 0.0429\n",
      "Epoch 75/100\n",
      "861/861 [==============================] - 2s 2ms/step - loss: 0.0803 - val_loss: 0.0159\n",
      "Epoch 76/100\n",
      "861/861 [==============================] - 2s 2ms/step - loss: 0.0844 - val_loss: 0.0178\n",
      "Epoch 77/100\n",
      "861/861 [==============================] - 2s 2ms/step - loss: 0.0809 - val_loss: 0.0411\n",
      "Epoch 78/100\n",
      "861/861 [==============================] - 2s 3ms/step - loss: 0.0835 - val_loss: 0.0173\n",
      "Epoch 79/100\n",
      "861/861 [==============================] - 2s 2ms/step - loss: 0.0837 - val_loss: 0.0371\n",
      "Epoch 80/100\n",
      "861/861 [==============================] - 2s 2ms/step - loss: 0.0737 - val_loss: 0.0296\n",
      "Epoch 81/100\n",
      "861/861 [==============================] - 2s 2ms/step - loss: 0.0781 - val_loss: 0.0228\n",
      "Epoch 82/100\n",
      "861/861 [==============================] - 2s 2ms/step - loss: 0.0862 - val_loss: 0.0306\n",
      "Epoch 83/100\n",
      "861/861 [==============================] - 2s 2ms/step - loss: 0.0795 - val_loss: 0.0200\n",
      "Epoch 84/100\n",
      "861/861 [==============================] - 2s 2ms/step - loss: 0.0743 - val_loss: 0.0153\n",
      "Epoch 85/100\n",
      "861/861 [==============================] - 2s 2ms/step - loss: 0.0804 - val_loss: 0.0356\n",
      "Epoch 86/100\n",
      "861/861 [==============================] - 2s 2ms/step - loss: 0.0852 - val_loss: 0.0247\n",
      "Epoch 87/100\n",
      "861/861 [==============================] - 2s 2ms/step - loss: 0.0735 - val_loss: 0.0606\n",
      "Epoch 88/100\n",
      "861/861 [==============================] - 2s 2ms/step - loss: 0.0830 - val_loss: 0.0449\n",
      "Epoch 89/100\n",
      "861/861 [==============================] - 2s 2ms/step - loss: 0.0823 - val_loss: 0.0535\n",
      "Epoch 90/100\n",
      "861/861 [==============================] - 2s 2ms/step - loss: 0.0698 - val_loss: 0.0311\n",
      "Epoch 91/100\n",
      "861/861 [==============================] - 2s 2ms/step - loss: 0.0732 - val_loss: 0.0173\n",
      "Epoch 92/100\n",
      "861/861 [==============================] - 2s 3ms/step - loss: 0.0761 - val_loss: 0.0166\n",
      "Epoch 93/100\n",
      "861/861 [==============================] - 2s 2ms/step - loss: 0.0735 - val_loss: 0.0353\n",
      "Epoch 94/100\n",
      "861/861 [==============================] - 2s 2ms/step - loss: 0.0740 - val_loss: 0.0433\n",
      "Epoch 95/100\n",
      "861/861 [==============================] - 2s 2ms/step - loss: 0.0808 - val_loss: 0.0144\n",
      "Epoch 96/100\n",
      "861/861 [==============================] - 2s 2ms/step - loss: 0.0739 - val_loss: 0.0371\n",
      "Epoch 97/100\n",
      "861/861 [==============================] - 2s 2ms/step - loss: 0.0759 - val_loss: 0.0226\n",
      "Epoch 98/100\n",
      "861/861 [==============================] - 2s 2ms/step - loss: 0.0718 - val_loss: 0.0150\n",
      "Epoch 99/100\n",
      "861/861 [==============================] - 2s 2ms/step - loss: 0.0879 - val_loss: 0.0185\n",
      "Epoch 100/100\n",
      "861/861 [==============================] - 2s 2ms/step - loss: 0.0777 - val_loss: 0.0199\n",
      "12/12 [==============================] - 0s 1ms/step\n"
     ]
    },
    {
     "ename": "TypeError",
     "evalue": "If no scoring is specified, the estimator passed should have a 'score' method. The estimator <keras.engine.sequential.Sequential object at 0x7fd0889f4700> does not.",
     "output_type": "error",
     "traceback": [
      "\u001b[0;31m---------------------------------------------------------------------------\u001b[0m",
      "\u001b[0;31mTypeError\u001b[0m                                 Traceback (most recent call last)",
      "Cell \u001b[0;32mIn[22], line 43\u001b[0m\n\u001b[1;32m     37\u001b[0m r \u001b[39m=\u001b[39m nn\u001b[39m.\u001b[39mfit(X_train, y_train,\n\u001b[1;32m     38\u001b[0m               validation_data\u001b[39m=\u001b[39m(X_test,y_test),\n\u001b[1;32m     39\u001b[0m               batch_size\u001b[39m=\u001b[39m\u001b[39m1\u001b[39m,\n\u001b[1;32m     40\u001b[0m               epochs\u001b[39m=\u001b[39m\u001b[39m100\u001b[39m)\n\u001b[1;32m     42\u001b[0m test_pred \u001b[39m=\u001b[39m nn\u001b[39m.\u001b[39mpredict(X_test)\n\u001b[0;32m---> 43\u001b[0m evaluate(nn, y_test, test_pred)\n",
      "Cell \u001b[0;32mIn[12], line 11\u001b[0m, in \u001b[0;36mevaluate\u001b[0;34m(model, true, predicted)\u001b[0m\n\u001b[1;32m      5\u001b[0m \u001b[39mdef\u001b[39;00m \u001b[39mevaluate\u001b[39m(model, true, predicted):\n\u001b[1;32m      6\u001b[0m     \u001b[39mreturn\u001b[39;00m {\n\u001b[1;32m      7\u001b[0m         \u001b[39m'\u001b[39m\u001b[39mmae\u001b[39m\u001b[39m'\u001b[39m: metrics\u001b[39m.\u001b[39mmean_absolute_error(true, predicted), \n\u001b[1;32m      8\u001b[0m         \u001b[39m'\u001b[39m\u001b[39mmse\u001b[39m\u001b[39m'\u001b[39m: metrics\u001b[39m.\u001b[39mmean_squared_error(true, predicted), \n\u001b[1;32m      9\u001b[0m         \u001b[39m'\u001b[39m\u001b[39mrmse\u001b[39m\u001b[39m'\u001b[39m: np\u001b[39m.\u001b[39msqrt(metrics\u001b[39m.\u001b[39mmean_squared_error(true, predicted)), \n\u001b[1;32m     10\u001b[0m         \u001b[39m'\u001b[39m\u001b[39mr2_square\u001b[39m\u001b[39m'\u001b[39m: metrics\u001b[39m.\u001b[39mr2_score(true, predicted),\n\u001b[0;32m---> 11\u001b[0m         \u001b[39m'\u001b[39m\u001b[39mcross_val\u001b[39m\u001b[39m'\u001b[39m : cross_val_score(model, X, y, cv\u001b[39m=\u001b[39;49m\u001b[39m10\u001b[39;49m)\u001b[39m.\u001b[39mmean()\n\u001b[1;32m     12\u001b[0m     }\n",
      "File \u001b[0;32m~/.local/lib/python3.10/site-packages/sklearn/model_selection/_validation.py:513\u001b[0m, in \u001b[0;36mcross_val_score\u001b[0;34m(estimator, X, y, groups, scoring, cv, n_jobs, verbose, fit_params, pre_dispatch, error_score)\u001b[0m\n\u001b[1;32m    395\u001b[0m \u001b[39m\"\"\"Evaluate a score by cross-validation.\u001b[39;00m\n\u001b[1;32m    396\u001b[0m \n\u001b[1;32m    397\u001b[0m \u001b[39mRead more in the :ref:`User Guide <cross_validation>`.\u001b[39;00m\n\u001b[0;32m   (...)\u001b[0m\n\u001b[1;32m    510\u001b[0m \u001b[39m[0.3315057  0.08022103 0.03531816]\u001b[39;00m\n\u001b[1;32m    511\u001b[0m \u001b[39m\"\"\"\u001b[39;00m\n\u001b[1;32m    512\u001b[0m \u001b[39m# To ensure multimetric format is not supported\u001b[39;00m\n\u001b[0;32m--> 513\u001b[0m scorer \u001b[39m=\u001b[39m check_scoring(estimator, scoring\u001b[39m=\u001b[39;49mscoring)\n\u001b[1;32m    515\u001b[0m cv_results \u001b[39m=\u001b[39m cross_validate(\n\u001b[1;32m    516\u001b[0m     estimator\u001b[39m=\u001b[39mestimator,\n\u001b[1;32m    517\u001b[0m     X\u001b[39m=\u001b[39mX,\n\u001b[0;32m   (...)\u001b[0m\n\u001b[1;32m    526\u001b[0m     error_score\u001b[39m=\u001b[39merror_score,\n\u001b[1;32m    527\u001b[0m )\n\u001b[1;32m    528\u001b[0m \u001b[39mreturn\u001b[39;00m cv_results[\u001b[39m\"\u001b[39m\u001b[39mtest_score\u001b[39m\u001b[39m\"\u001b[39m]\n",
      "File \u001b[0;32m~/.local/lib/python3.10/site-packages/sklearn/metrics/_scorer.py:488\u001b[0m, in \u001b[0;36mcheck_scoring\u001b[0;34m(estimator, scoring, allow_none)\u001b[0m\n\u001b[1;32m    486\u001b[0m         \u001b[39mreturn\u001b[39;00m \u001b[39mNone\u001b[39;00m\n\u001b[1;32m    487\u001b[0m     \u001b[39melse\u001b[39;00m:\n\u001b[0;32m--> 488\u001b[0m         \u001b[39mraise\u001b[39;00m \u001b[39mTypeError\u001b[39;00m(\n\u001b[1;32m    489\u001b[0m             \u001b[39m\"\u001b[39m\u001b[39mIf no scoring is specified, the estimator passed should \u001b[39m\u001b[39m\"\u001b[39m\n\u001b[1;32m    490\u001b[0m             \u001b[39m\"\u001b[39m\u001b[39mhave a \u001b[39m\u001b[39m'\u001b[39m\u001b[39mscore\u001b[39m\u001b[39m'\u001b[39m\u001b[39m method. The estimator \u001b[39m\u001b[39m%r\u001b[39;00m\u001b[39m does not.\u001b[39m\u001b[39m\"\u001b[39m \u001b[39m%\u001b[39m estimator\n\u001b[1;32m    491\u001b[0m         )\n\u001b[1;32m    492\u001b[0m \u001b[39melif\u001b[39;00m \u001b[39misinstance\u001b[39m(scoring, Iterable):\n\u001b[1;32m    493\u001b[0m     \u001b[39mraise\u001b[39;00m \u001b[39mValueError\u001b[39;00m(\n\u001b[1;32m    494\u001b[0m         \u001b[39m\"\u001b[39m\u001b[39mFor evaluating multiple scores, use \u001b[39m\u001b[39m\"\u001b[39m\n\u001b[1;32m    495\u001b[0m         \u001b[39m\"\u001b[39m\u001b[39msklearn.model_selection.cross_validate instead. \u001b[39m\u001b[39m\"\u001b[39m\n\u001b[1;32m    496\u001b[0m         \u001b[39m\"\u001b[39m\u001b[39m{0}\u001b[39;00m\u001b[39m was passed.\u001b[39m\u001b[39m\"\u001b[39m\u001b[39m.\u001b[39mformat(scoring)\n\u001b[1;32m    497\u001b[0m     )\n",
      "\u001b[0;31mTypeError\u001b[0m: If no scoring is specified, the estimator passed should have a 'score' method. The estimator <keras.engine.sequential.Sequential object at 0x7fd0889f4700> does not."
     ]
    }
   ],
   "source": [
    "from tensorflow.keras.models import Sequential\n",
    "from tensorflow.keras.layers import Input, Dense, Activation, Dropout\n",
    "from tensorflow.keras.optimizers import Adam\n",
    "\n",
    "df2 = df.copy()\n",
    "df2['Country'] = df2['Country'].astype('category').cat.codes\n",
    "df2['Region'] = df2['Region'].astype('category').cat.codes\n",
    "\n",
    "# Cross Validation for Happiness Score\n",
    "X = df2.drop('Happiness Score', axis=1)\n",
    "y = df2['Happiness Score']\n",
    "X_train, X_test, y_train, y_test = train_test_split(X, y, test_size=0.3, random_state=42)\n",
    "\n",
    "# X_train = np.array(X_train).astype('float32')\n",
    "# X_test = np.array(X_test).astype('float32')\n",
    "# y_train = np.array(y_train).astype('float32')\n",
    "# y_test = np.array(y_test).astype('float32')\n",
    "# x = np.asarray(x)\n",
    "nn = Sequential()\n",
    "\n",
    "nn.add(Dense(X_train.shape[1], activation='relu'))\n",
    "nn.add(Dense(32, activation='relu'))\n",
    "# nn.add(Dropout(0.2))\n",
    "\n",
    "nn.add(Dense(64, activation='relu'))\n",
    "# nn.add(Dropout(0.2))\n",
    "\n",
    "nn.add(Dense(128, activation='relu'))\n",
    "# nn.add(Dropout(0.2))\n",
    "\n",
    "nn.add(Dense(512, activation='relu'))\n",
    "nn.add(Dropout(0.1))\n",
    "nn.add(Dense(1))\n",
    "\n",
    "nn.compile(optimizer=Adam(0.00001), loss='mse')\n",
    "\n",
    "r = nn.fit(X_train, y_train,\n",
    "              validation_data=(X_test,y_test),\n",
    "              batch_size=1,\n",
    "              epochs=100)\n",
    "\n",
    "test_pred = nn.predict(X_test)\n",
    "evaluate(nn, y_test, test_pred)\n"
   ]
  }
 ],
 "metadata": {
  "kernelspec": {
   "display_name": "Python 3",
   "language": "python",
   "name": "python3"
  },
  "language_info": {
   "codemirror_mode": {
    "name": "ipython",
    "version": 3
   },
   "file_extension": ".py",
   "mimetype": "text/x-python",
   "name": "python",
   "nbconvert_exporter": "python",
   "pygments_lexer": "ipython3",
   "version": "3.10.4 (main, Nov 29 2022, 20:00:25) [GCC 9.4.0]"
  },
  "orig_nbformat": 4,
  "vscode": {
   "interpreter": {
    "hash": "3ad933181bd8a04b432d3370b9dc3b0662ad032c4dfaa4e4f1596c548f763858"
   }
  }
 },
 "nbformat": 4,
 "nbformat_minor": 2
}
